{
 "cells": [
  {
   "cell_type": "markdown",
   "id": "d104fbd7",
   "metadata": {},
   "source": [
    "# Data Analysis assignment 1 - Working Talent"
   ]
  },
  {
   "cell_type": "code",
   "execution_count": 1,
   "id": "5e1025be",
   "metadata": {},
   "outputs": [],
   "source": [
    "import pandas as pd\n",
    "import numpy as np"
   ]
  },
  {
   "cell_type": "code",
   "execution_count": 2,
   "id": "afad70b7",
   "metadata": {},
   "outputs": [
    {
     "data": {
      "text/html": [
       "<div>\n",
       "<style scoped>\n",
       "    .dataframe tbody tr th:only-of-type {\n",
       "        vertical-align: middle;\n",
       "    }\n",
       "\n",
       "    .dataframe tbody tr th {\n",
       "        vertical-align: top;\n",
       "    }\n",
       "\n",
       "    .dataframe thead th {\n",
       "        text-align: right;\n",
       "    }\n",
       "</style>\n",
       "<table border=\"1\" class=\"dataframe\">\n",
       "  <thead>\n",
       "    <tr style=\"text-align: right;\">\n",
       "      <th></th>\n",
       "      <th>App</th>\n",
       "      <th>Category</th>\n",
       "      <th>Rating</th>\n",
       "      <th>Reviews</th>\n",
       "      <th>Size</th>\n",
       "      <th>Installs</th>\n",
       "      <th>Type</th>\n",
       "      <th>Price</th>\n",
       "      <th>Content Rating</th>\n",
       "      <th>Genres</th>\n",
       "      <th>Last Updated</th>\n",
       "      <th>Current Ver</th>\n",
       "      <th>Android Ver</th>\n",
       "    </tr>\n",
       "  </thead>\n",
       "  <tbody>\n",
       "    <tr>\n",
       "      <th>0</th>\n",
       "      <td>Photo Editor &amp; Candy Camera &amp; Grid &amp; ScrapBook</td>\n",
       "      <td>ART_AND_DESIGN</td>\n",
       "      <td>4.1</td>\n",
       "      <td>159</td>\n",
       "      <td>19M</td>\n",
       "      <td>10,000+</td>\n",
       "      <td>Free</td>\n",
       "      <td>0</td>\n",
       "      <td>Everyone</td>\n",
       "      <td>Art &amp; Design</td>\n",
       "      <td>January 7, 2018</td>\n",
       "      <td>1.0.0</td>\n",
       "      <td>4.0.3 and up</td>\n",
       "    </tr>\n",
       "    <tr>\n",
       "      <th>1</th>\n",
       "      <td>Coloring book moana</td>\n",
       "      <td>ART_AND_DESIGN</td>\n",
       "      <td>3.9</td>\n",
       "      <td>967</td>\n",
       "      <td>14M</td>\n",
       "      <td>500,000+</td>\n",
       "      <td>Free</td>\n",
       "      <td>0</td>\n",
       "      <td>Everyone</td>\n",
       "      <td>Art &amp; Design;Pretend Play</td>\n",
       "      <td>January 15, 2018</td>\n",
       "      <td>2.0.0</td>\n",
       "      <td>4.0.3 and up</td>\n",
       "    </tr>\n",
       "    <tr>\n",
       "      <th>2</th>\n",
       "      <td>U Launcher Lite – FREE Live Cool Themes, Hide ...</td>\n",
       "      <td>ART_AND_DESIGN</td>\n",
       "      <td>4.7</td>\n",
       "      <td>87510</td>\n",
       "      <td>8.7M</td>\n",
       "      <td>5,000,000+</td>\n",
       "      <td>Free</td>\n",
       "      <td>0</td>\n",
       "      <td>Everyone</td>\n",
       "      <td>Art &amp; Design</td>\n",
       "      <td>August 1, 2018</td>\n",
       "      <td>1.2.4</td>\n",
       "      <td>4.0.3 and up</td>\n",
       "    </tr>\n",
       "    <tr>\n",
       "      <th>3</th>\n",
       "      <td>Sketch - Draw &amp; Paint</td>\n",
       "      <td>ART_AND_DESIGN</td>\n",
       "      <td>4.5</td>\n",
       "      <td>215644</td>\n",
       "      <td>25M</td>\n",
       "      <td>50,000,000+</td>\n",
       "      <td>Free</td>\n",
       "      <td>0</td>\n",
       "      <td>Teen</td>\n",
       "      <td>Art &amp; Design</td>\n",
       "      <td>June 8, 2018</td>\n",
       "      <td>Varies with device</td>\n",
       "      <td>4.2 and up</td>\n",
       "    </tr>\n",
       "    <tr>\n",
       "      <th>4</th>\n",
       "      <td>Pixel Draw - Number Art Coloring Book</td>\n",
       "      <td>ART_AND_DESIGN</td>\n",
       "      <td>4.3</td>\n",
       "      <td>967</td>\n",
       "      <td>2.8M</td>\n",
       "      <td>100,000+</td>\n",
       "      <td>Free</td>\n",
       "      <td>0</td>\n",
       "      <td>Everyone</td>\n",
       "      <td>Art &amp; Design;Creativity</td>\n",
       "      <td>June 20, 2018</td>\n",
       "      <td>1.1</td>\n",
       "      <td>4.4 and up</td>\n",
       "    </tr>\n",
       "    <tr>\n",
       "      <th>...</th>\n",
       "      <td>...</td>\n",
       "      <td>...</td>\n",
       "      <td>...</td>\n",
       "      <td>...</td>\n",
       "      <td>...</td>\n",
       "      <td>...</td>\n",
       "      <td>...</td>\n",
       "      <td>...</td>\n",
       "      <td>...</td>\n",
       "      <td>...</td>\n",
       "      <td>...</td>\n",
       "      <td>...</td>\n",
       "      <td>...</td>\n",
       "    </tr>\n",
       "    <tr>\n",
       "      <th>10836</th>\n",
       "      <td>Sya9a Maroc - FR</td>\n",
       "      <td>FAMILY</td>\n",
       "      <td>4.5</td>\n",
       "      <td>38</td>\n",
       "      <td>53M</td>\n",
       "      <td>5,000+</td>\n",
       "      <td>Free</td>\n",
       "      <td>0</td>\n",
       "      <td>Everyone</td>\n",
       "      <td>Education</td>\n",
       "      <td>July 25, 2017</td>\n",
       "      <td>1.48</td>\n",
       "      <td>4.1 and up</td>\n",
       "    </tr>\n",
       "    <tr>\n",
       "      <th>10837</th>\n",
       "      <td>Fr. Mike Schmitz Audio Teachings</td>\n",
       "      <td>FAMILY</td>\n",
       "      <td>5.0</td>\n",
       "      <td>4</td>\n",
       "      <td>3.6M</td>\n",
       "      <td>100+</td>\n",
       "      <td>Free</td>\n",
       "      <td>0</td>\n",
       "      <td>Everyone</td>\n",
       "      <td>Education</td>\n",
       "      <td>July 6, 2018</td>\n",
       "      <td>1.0</td>\n",
       "      <td>4.1 and up</td>\n",
       "    </tr>\n",
       "    <tr>\n",
       "      <th>10838</th>\n",
       "      <td>Parkinson Exercices FR</td>\n",
       "      <td>MEDICAL</td>\n",
       "      <td>NaN</td>\n",
       "      <td>3</td>\n",
       "      <td>9.5M</td>\n",
       "      <td>1,000+</td>\n",
       "      <td>Free</td>\n",
       "      <td>0</td>\n",
       "      <td>Everyone</td>\n",
       "      <td>Medical</td>\n",
       "      <td>January 20, 2017</td>\n",
       "      <td>1.0</td>\n",
       "      <td>2.2 and up</td>\n",
       "    </tr>\n",
       "    <tr>\n",
       "      <th>10839</th>\n",
       "      <td>The SCP Foundation DB fr nn5n</td>\n",
       "      <td>BOOKS_AND_REFERENCE</td>\n",
       "      <td>4.5</td>\n",
       "      <td>114</td>\n",
       "      <td>Varies with device</td>\n",
       "      <td>1,000+</td>\n",
       "      <td>Free</td>\n",
       "      <td>0</td>\n",
       "      <td>Mature 17+</td>\n",
       "      <td>Books &amp; Reference</td>\n",
       "      <td>January 19, 2015</td>\n",
       "      <td>Varies with device</td>\n",
       "      <td>Varies with device</td>\n",
       "    </tr>\n",
       "    <tr>\n",
       "      <th>10840</th>\n",
       "      <td>iHoroscope - 2018 Daily Horoscope &amp; Astrology</td>\n",
       "      <td>LIFESTYLE</td>\n",
       "      <td>4.5</td>\n",
       "      <td>398307</td>\n",
       "      <td>19M</td>\n",
       "      <td>10,000,000+</td>\n",
       "      <td>Free</td>\n",
       "      <td>0</td>\n",
       "      <td>Everyone</td>\n",
       "      <td>Lifestyle</td>\n",
       "      <td>July 25, 2018</td>\n",
       "      <td>Varies with device</td>\n",
       "      <td>Varies with device</td>\n",
       "    </tr>\n",
       "  </tbody>\n",
       "</table>\n",
       "<p>10841 rows × 13 columns</p>\n",
       "</div>"
      ],
      "text/plain": [
       "                                                     App             Category  \\\n",
       "0         Photo Editor & Candy Camera & Grid & ScrapBook       ART_AND_DESIGN   \n",
       "1                                    Coloring book moana       ART_AND_DESIGN   \n",
       "2      U Launcher Lite – FREE Live Cool Themes, Hide ...       ART_AND_DESIGN   \n",
       "3                                  Sketch - Draw & Paint       ART_AND_DESIGN   \n",
       "4                  Pixel Draw - Number Art Coloring Book       ART_AND_DESIGN   \n",
       "...                                                  ...                  ...   \n",
       "10836                                   Sya9a Maroc - FR               FAMILY   \n",
       "10837                   Fr. Mike Schmitz Audio Teachings               FAMILY   \n",
       "10838                             Parkinson Exercices FR              MEDICAL   \n",
       "10839                      The SCP Foundation DB fr nn5n  BOOKS_AND_REFERENCE   \n",
       "10840      iHoroscope - 2018 Daily Horoscope & Astrology            LIFESTYLE   \n",
       "\n",
       "       Rating Reviews                Size     Installs  Type Price  \\\n",
       "0         4.1     159                 19M      10,000+  Free     0   \n",
       "1         3.9     967                 14M     500,000+  Free     0   \n",
       "2         4.7   87510                8.7M   5,000,000+  Free     0   \n",
       "3         4.5  215644                 25M  50,000,000+  Free     0   \n",
       "4         4.3     967                2.8M     100,000+  Free     0   \n",
       "...       ...     ...                 ...          ...   ...   ...   \n",
       "10836     4.5      38                 53M       5,000+  Free     0   \n",
       "10837     5.0       4                3.6M         100+  Free     0   \n",
       "10838     NaN       3                9.5M       1,000+  Free     0   \n",
       "10839     4.5     114  Varies with device       1,000+  Free     0   \n",
       "10840     4.5  398307                 19M  10,000,000+  Free     0   \n",
       "\n",
       "      Content Rating                     Genres      Last Updated  \\\n",
       "0           Everyone               Art & Design   January 7, 2018   \n",
       "1           Everyone  Art & Design;Pretend Play  January 15, 2018   \n",
       "2           Everyone               Art & Design    August 1, 2018   \n",
       "3               Teen               Art & Design      June 8, 2018   \n",
       "4           Everyone    Art & Design;Creativity     June 20, 2018   \n",
       "...              ...                        ...               ...   \n",
       "10836       Everyone                  Education     July 25, 2017   \n",
       "10837       Everyone                  Education      July 6, 2018   \n",
       "10838       Everyone                    Medical  January 20, 2017   \n",
       "10839     Mature 17+          Books & Reference  January 19, 2015   \n",
       "10840       Everyone                  Lifestyle     July 25, 2018   \n",
       "\n",
       "              Current Ver         Android Ver  \n",
       "0                   1.0.0        4.0.3 and up  \n",
       "1                   2.0.0        4.0.3 and up  \n",
       "2                   1.2.4        4.0.3 and up  \n",
       "3      Varies with device          4.2 and up  \n",
       "4                     1.1          4.4 and up  \n",
       "...                   ...                 ...  \n",
       "10836                1.48          4.1 and up  \n",
       "10837                 1.0          4.1 and up  \n",
       "10838                 1.0          2.2 and up  \n",
       "10839  Varies with device  Varies with device  \n",
       "10840  Varies with device  Varies with device  \n",
       "\n",
       "[10841 rows x 13 columns]"
      ]
     },
     "execution_count": 2,
     "metadata": {},
     "output_type": "execute_result"
    }
   ],
   "source": [
    "# Load the data\n",
    "df = pd.read_csv('googleplaystore.csv')\n",
    "df"
   ]
  },
  {
   "cell_type": "markdown",
   "id": "ad83aecb",
   "metadata": {},
   "source": [
    "## Checking what data we work with"
   ]
  },
  {
   "cell_type": "code",
   "execution_count": 3,
   "id": "ecba8d1e",
   "metadata": {},
   "outputs": [
    {
     "name": "stdout",
     "output_type": "stream",
     "text": [
      "<class 'pandas.core.frame.DataFrame'>\n",
      "RangeIndex: 10841 entries, 0 to 10840\n",
      "Data columns (total 13 columns):\n",
      " #   Column          Non-Null Count  Dtype  \n",
      "---  ------          --------------  -----  \n",
      " 0   App             10841 non-null  object \n",
      " 1   Category        10841 non-null  object \n",
      " 2   Rating          9367 non-null   float64\n",
      " 3   Reviews         10841 non-null  object \n",
      " 4   Size            10841 non-null  object \n",
      " 5   Installs        10841 non-null  object \n",
      " 6   Type            10840 non-null  object \n",
      " 7   Price           10841 non-null  object \n",
      " 8   Content Rating  10840 non-null  object \n",
      " 9   Genres          10841 non-null  object \n",
      " 10  Last Updated    10841 non-null  object \n",
      " 11  Current Ver     10833 non-null  object \n",
      " 12  Android Ver     10838 non-null  object \n",
      "dtypes: float64(1), object(12)\n",
      "memory usage: 1.1+ MB\n"
     ]
    }
   ],
   "source": [
    "df.info()"
   ]
  },
  {
   "cell_type": "code",
   "execution_count": 4,
   "id": "c7faf4c6",
   "metadata": {},
   "outputs": [
    {
     "data": {
      "text/html": [
       "<div>\n",
       "<style scoped>\n",
       "    .dataframe tbody tr th:only-of-type {\n",
       "        vertical-align: middle;\n",
       "    }\n",
       "\n",
       "    .dataframe tbody tr th {\n",
       "        vertical-align: top;\n",
       "    }\n",
       "\n",
       "    .dataframe thead th {\n",
       "        text-align: right;\n",
       "    }\n",
       "</style>\n",
       "<table border=\"1\" class=\"dataframe\">\n",
       "  <thead>\n",
       "    <tr style=\"text-align: right;\">\n",
       "      <th></th>\n",
       "      <th>Rating</th>\n",
       "    </tr>\n",
       "  </thead>\n",
       "  <tbody>\n",
       "    <tr>\n",
       "      <th>count</th>\n",
       "      <td>9367.000000</td>\n",
       "    </tr>\n",
       "    <tr>\n",
       "      <th>mean</th>\n",
       "      <td>4.193338</td>\n",
       "    </tr>\n",
       "    <tr>\n",
       "      <th>std</th>\n",
       "      <td>0.537431</td>\n",
       "    </tr>\n",
       "    <tr>\n",
       "      <th>min</th>\n",
       "      <td>1.000000</td>\n",
       "    </tr>\n",
       "    <tr>\n",
       "      <th>25%</th>\n",
       "      <td>4.000000</td>\n",
       "    </tr>\n",
       "    <tr>\n",
       "      <th>50%</th>\n",
       "      <td>4.300000</td>\n",
       "    </tr>\n",
       "    <tr>\n",
       "      <th>75%</th>\n",
       "      <td>4.500000</td>\n",
       "    </tr>\n",
       "    <tr>\n",
       "      <th>max</th>\n",
       "      <td>19.000000</td>\n",
       "    </tr>\n",
       "  </tbody>\n",
       "</table>\n",
       "</div>"
      ],
      "text/plain": [
       "            Rating\n",
       "count  9367.000000\n",
       "mean      4.193338\n",
       "std       0.537431\n",
       "min       1.000000\n",
       "25%       4.000000\n",
       "50%       4.300000\n",
       "75%       4.500000\n",
       "max      19.000000"
      ]
     },
     "execution_count": 4,
     "metadata": {},
     "output_type": "execute_result"
    }
   ],
   "source": [
    "df.describe()"
   ]
  },
  {
   "cell_type": "code",
   "execution_count": 5,
   "id": "c0398b30",
   "metadata": {},
   "outputs": [
    {
     "data": {
      "text/plain": [
       "(10841, 13)"
      ]
     },
     "execution_count": 5,
     "metadata": {},
     "output_type": "execute_result"
    }
   ],
   "source": [
    "df.shape"
   ]
  },
  {
   "cell_type": "code",
   "execution_count": 6,
   "id": "07e4a3ce",
   "metadata": {},
   "outputs": [
    {
     "data": {
      "text/plain": [
       "App                object\n",
       "Category           object\n",
       "Rating            float64\n",
       "Reviews            object\n",
       "Size               object\n",
       "Installs           object\n",
       "Type               object\n",
       "Price              object\n",
       "Content Rating     object\n",
       "Genres             object\n",
       "Last Updated       object\n",
       "Current Ver        object\n",
       "Android Ver        object\n",
       "dtype: object"
      ]
     },
     "execution_count": 6,
     "metadata": {},
     "output_type": "execute_result"
    }
   ],
   "source": [
    "df.dtypes"
   ]
  },
  {
   "cell_type": "code",
   "execution_count": 7,
   "id": "fda610c0",
   "metadata": {},
   "outputs": [
    {
     "data": {
      "text/plain": [
       "Rating            13.596532\n",
       "Current Ver        0.073794\n",
       "Android Ver        0.027673\n",
       "Type               0.009224\n",
       "Content Rating     0.009224\n",
       "App                0.000000\n",
       "Category           0.000000\n",
       "Reviews            0.000000\n",
       "Size               0.000000\n",
       "Installs           0.000000\n",
       "Price              0.000000\n",
       "Genres             0.000000\n",
       "Last Updated       0.000000\n",
       "dtype: float64"
      ]
     },
     "execution_count": 7,
     "metadata": {},
     "output_type": "execute_result"
    }
   ],
   "source": [
    "# Check how much % we miss from the data\n",
    "(df.isnull().sum()/len(df)*100).sort_values(ascending=False)"
   ]
  },
  {
   "cell_type": "code",
   "execution_count": 8,
   "id": "0c0ffec4",
   "metadata": {},
   "outputs": [
    {
     "data": {
      "text/plain": [
       "['App',\n",
       " 'Category',\n",
       " 'Rating',\n",
       " 'Reviews',\n",
       " 'Size',\n",
       " 'Installs',\n",
       " 'Type',\n",
       " 'Price',\n",
       " 'Content Rating',\n",
       " 'Genres',\n",
       " 'Last Updated',\n",
       " 'Current Ver',\n",
       " 'Android Ver']"
      ]
     },
     "execution_count": 8,
     "metadata": {},
     "output_type": "execute_result"
    }
   ],
   "source": [
    "list_columns=list(df.columns)\n",
    "list_columns"
   ]
  },
  {
   "cell_type": "markdown",
   "id": "7ae5ecaa",
   "metadata": {
    "heading_collapsed": true
   },
   "source": [
    "## dealing with the reviews, using mean to impute the missing values"
   ]
  },
  {
   "cell_type": "code",
   "execution_count": 9,
   "id": "fc0d4861",
   "metadata": {
    "hidden": true
   },
   "outputs": [],
   "source": [
    "# df.loc[:,i].mean()"
   ]
  },
  {
   "cell_type": "code",
   "execution_count": 10,
   "id": "00351cf8",
   "metadata": {
    "hidden": true
   },
   "outputs": [],
   "source": [
    "missing_col = ['Rating']\n",
    "\n",
    "for i in missing_col:\n",
    "    df.loc[df.loc[:,i].isnull(),i]=df.loc[:,i].mean()"
   ]
  },
  {
   "cell_type": "code",
   "execution_count": 11,
   "id": "c7a7cfd1",
   "metadata": {
    "hidden": true
   },
   "outputs": [],
   "source": [
    "df['Rating']=df['Rating'].round(2)"
   ]
  },
  {
   "cell_type": "code",
   "execution_count": 12,
   "id": "2f90bc64",
   "metadata": {
    "hidden": true
   },
   "outputs": [
    {
     "data": {
      "text/plain": [
       "App               0\n",
       "Category          0\n",
       "Rating            0\n",
       "Reviews           0\n",
       "Size              0\n",
       "Installs          0\n",
       "Type              1\n",
       "Price             0\n",
       "Content Rating    1\n",
       "Genres            0\n",
       "Last Updated      0\n",
       "Current Ver       8\n",
       "Android Ver       3\n",
       "dtype: int64"
      ]
     },
     "execution_count": 12,
     "metadata": {},
     "output_type": "execute_result"
    }
   ],
   "source": [
    "df.isnull().sum()"
   ]
  },
  {
   "cell_type": "markdown",
   "id": "59ee3872",
   "metadata": {
    "heading_collapsed": true
   },
   "source": [
    "## dealing with the other missing values"
   ]
  },
  {
   "cell_type": "code",
   "execution_count": 13,
   "id": "41a424fb",
   "metadata": {
    "hidden": true
   },
   "outputs": [],
   "source": [
    "df.dropna(inplace=True)"
   ]
  },
  {
   "cell_type": "code",
   "execution_count": 14,
   "id": "df04596d",
   "metadata": {
    "hidden": true
   },
   "outputs": [
    {
     "data": {
      "text/plain": [
       "App               0\n",
       "Category          0\n",
       "Rating            0\n",
       "Reviews           0\n",
       "Size              0\n",
       "Installs          0\n",
       "Type              0\n",
       "Price             0\n",
       "Content Rating    0\n",
       "Genres            0\n",
       "Last Updated      0\n",
       "Current Ver       0\n",
       "Android Ver       0\n",
       "dtype: int64"
      ]
     },
     "execution_count": 14,
     "metadata": {},
     "output_type": "execute_result"
    }
   ],
   "source": [
    "df.isnull().sum()"
   ]
  },
  {
   "cell_type": "code",
   "execution_count": 15,
   "id": "abf04c4f",
   "metadata": {
    "hidden": true
   },
   "outputs": [
    {
     "name": "stdout",
     "output_type": "stream",
     "text": [
      "<class 'pandas.core.frame.DataFrame'>\n",
      "Int64Index: 10829 entries, 0 to 10840\n",
      "Data columns (total 13 columns):\n",
      " #   Column          Non-Null Count  Dtype  \n",
      "---  ------          --------------  -----  \n",
      " 0   App             10829 non-null  object \n",
      " 1   Category        10829 non-null  object \n",
      " 2   Rating          10829 non-null  float64\n",
      " 3   Reviews         10829 non-null  object \n",
      " 4   Size            10829 non-null  object \n",
      " 5   Installs        10829 non-null  object \n",
      " 6   Type            10829 non-null  object \n",
      " 7   Price           10829 non-null  object \n",
      " 8   Content Rating  10829 non-null  object \n",
      " 9   Genres          10829 non-null  object \n",
      " 10  Last Updated    10829 non-null  object \n",
      " 11  Current Ver     10829 non-null  object \n",
      " 12  Android Ver     10829 non-null  object \n",
      "dtypes: float64(1), object(12)\n",
      "memory usage: 1.2+ MB\n"
     ]
    }
   ],
   "source": [
    "df.info()"
   ]
  },
  {
   "cell_type": "markdown",
   "id": "37e355a7",
   "metadata": {
    "heading_collapsed": true
   },
   "source": [
    "## deal with duplicates"
   ]
  },
  {
   "cell_type": "code",
   "execution_count": 16,
   "id": "0ea51b38",
   "metadata": {
    "hidden": true
   },
   "outputs": [
    {
     "data": {
      "text/plain": [
       "10829"
      ]
     },
     "execution_count": 16,
     "metadata": {},
     "output_type": "execute_result"
    }
   ],
   "source": [
    "len(df)"
   ]
  },
  {
   "cell_type": "code",
   "execution_count": 17,
   "id": "ecd902a5",
   "metadata": {
    "hidden": true
   },
   "outputs": [
    {
     "data": {
      "text/plain": [
       "483"
      ]
     },
     "execution_count": 17,
     "metadata": {},
     "output_type": "execute_result"
    }
   ],
   "source": [
    "df.duplicated().sum()"
   ]
  },
  {
   "cell_type": "code",
   "execution_count": 18,
   "id": "f78de0a1",
   "metadata": {
    "hidden": true
   },
   "outputs": [],
   "source": [
    "df=df.drop_duplicates()"
   ]
  },
  {
   "cell_type": "code",
   "execution_count": 19,
   "id": "a2d11470",
   "metadata": {
    "hidden": true
   },
   "outputs": [
    {
     "data": {
      "text/plain": [
       "10346"
      ]
     },
     "execution_count": 19,
     "metadata": {},
     "output_type": "execute_result"
    }
   ],
   "source": [
    "len(df)"
   ]
  },
  {
   "cell_type": "markdown",
   "id": "43aeddf0",
   "metadata": {
    "heading_collapsed": true
   },
   "source": [
    "# Dealing with data types"
   ]
  },
  {
   "cell_type": "markdown",
   "id": "92e32c98",
   "metadata": {
    "heading_collapsed": true,
    "hidden": true
   },
   "source": [
    "## reviews"
   ]
  },
  {
   "cell_type": "code",
   "execution_count": 20,
   "id": "fc38cc81",
   "metadata": {
    "hidden": true
   },
   "outputs": [
    {
     "name": "stdout",
     "output_type": "stream",
     "text": [
      "<class 'pandas.core.frame.DataFrame'>\n",
      "Int64Index: 10346 entries, 0 to 10840\n",
      "Data columns (total 13 columns):\n",
      " #   Column          Non-Null Count  Dtype  \n",
      "---  ------          --------------  -----  \n",
      " 0   App             10346 non-null  object \n",
      " 1   Category        10346 non-null  object \n",
      " 2   Rating          10346 non-null  float64\n",
      " 3   Reviews         10346 non-null  object \n",
      " 4   Size            10346 non-null  object \n",
      " 5   Installs        10346 non-null  object \n",
      " 6   Type            10346 non-null  object \n",
      " 7   Price           10346 non-null  object \n",
      " 8   Content Rating  10346 non-null  object \n",
      " 9   Genres          10346 non-null  object \n",
      " 10  Last Updated    10346 non-null  object \n",
      " 11  Current Ver     10346 non-null  object \n",
      " 12  Android Ver     10346 non-null  object \n",
      "dtypes: float64(1), object(12)\n",
      "memory usage: 1.1+ MB\n"
     ]
    }
   ],
   "source": [
    "df.info()"
   ]
  },
  {
   "cell_type": "code",
   "execution_count": 21,
   "id": "636f2eca",
   "metadata": {
    "hidden": true
   },
   "outputs": [
    {
     "name": "stderr",
     "output_type": "stream",
     "text": [
      "/var/folders/jv/yk7cpcx97ln8wgt109nxk6c00000gn/T/ipykernel_2735/2986420203.py:2: SettingWithCopyWarning: \n",
      "A value is trying to be set on a copy of a slice from a DataFrame.\n",
      "Try using .loc[row_indexer,col_indexer] = value instead\n",
      "\n",
      "See the caveats in the documentation: https://pandas.pydata.org/pandas-docs/stable/user_guide/indexing.html#returning-a-view-versus-a-copy\n",
      "  df['Reviews'] = df['Reviews'].astype(float)\n"
     ]
    }
   ],
   "source": [
    "#reviews as float\n",
    "df['Reviews'] = df['Reviews'].astype(float)"
   ]
  },
  {
   "cell_type": "markdown",
   "id": "434f5649",
   "metadata": {
    "heading_collapsed": true,
    "hidden": true
   },
   "source": [
    "## last updated --> date to datetime"
   ]
  },
  {
   "cell_type": "code",
   "execution_count": 22,
   "id": "75ccf1df",
   "metadata": {
    "hidden": true
   },
   "outputs": [
    {
     "name": "stderr",
     "output_type": "stream",
     "text": [
      "/var/folders/jv/yk7cpcx97ln8wgt109nxk6c00000gn/T/ipykernel_2735/981693967.py:1: SettingWithCopyWarning: \n",
      "A value is trying to be set on a copy of a slice from a DataFrame.\n",
      "Try using .loc[row_indexer,col_indexer] = value instead\n",
      "\n",
      "See the caveats in the documentation: https://pandas.pydata.org/pandas-docs/stable/user_guide/indexing.html#returning-a-view-versus-a-copy\n",
      "  df[\"Last Updated\"]= pd.to_datetime(df[\"Last Updated\"])\n"
     ]
    }
   ],
   "source": [
    "df[\"Last Updated\"]= pd.to_datetime(df[\"Last Updated\"])"
   ]
  },
  {
   "cell_type": "code",
   "execution_count": 23,
   "id": "2cb20959",
   "metadata": {
    "hidden": true,
    "scrolled": true
   },
   "outputs": [
    {
     "name": "stdout",
     "output_type": "stream",
     "text": [
      "<class 'pandas.core.frame.DataFrame'>\n",
      "Int64Index: 10346 entries, 0 to 10840\n",
      "Data columns (total 13 columns):\n",
      " #   Column          Non-Null Count  Dtype         \n",
      "---  ------          --------------  -----         \n",
      " 0   App             10346 non-null  object        \n",
      " 1   Category        10346 non-null  object        \n",
      " 2   Rating          10346 non-null  float64       \n",
      " 3   Reviews         10346 non-null  float64       \n",
      " 4   Size            10346 non-null  object        \n",
      " 5   Installs        10346 non-null  object        \n",
      " 6   Type            10346 non-null  object        \n",
      " 7   Price           10346 non-null  object        \n",
      " 8   Content Rating  10346 non-null  object        \n",
      " 9   Genres          10346 non-null  object        \n",
      " 10  Last Updated    10346 non-null  datetime64[ns]\n",
      " 11  Current Ver     10346 non-null  object        \n",
      " 12  Android Ver     10346 non-null  object        \n",
      "dtypes: datetime64[ns](1), float64(2), object(10)\n",
      "memory usage: 1.1+ MB\n"
     ]
    }
   ],
   "source": [
    "df.info()"
   ]
  },
  {
   "cell_type": "markdown",
   "id": "e9b17d72",
   "metadata": {
    "heading_collapsed": true,
    "hidden": true
   },
   "source": [
    "## installs as type float"
   ]
  },
  {
   "cell_type": "code",
   "execution_count": 24,
   "id": "8968d85e",
   "metadata": {
    "hidden": true
   },
   "outputs": [
    {
     "name": "stderr",
     "output_type": "stream",
     "text": [
      "/var/folders/jv/yk7cpcx97ln8wgt109nxk6c00000gn/T/ipykernel_2735/2078274175.py:1: SettingWithCopyWarning: \n",
      "A value is trying to be set on a copy of a slice from a DataFrame.\n",
      "Try using .loc[row_indexer,col_indexer] = value instead\n",
      "\n",
      "See the caveats in the documentation: https://pandas.pydata.org/pandas-docs/stable/user_guide/indexing.html#returning-a-view-versus-a-copy\n",
      "  df['Installs']=df['Installs'].apply(lambda x: x.replace('+',''))\n"
     ]
    }
   ],
   "source": [
    "df['Installs']=df['Installs'].apply(lambda x: x.replace('+',''))"
   ]
  },
  {
   "cell_type": "code",
   "execution_count": 25,
   "id": "66aa0659",
   "metadata": {
    "hidden": true
   },
   "outputs": [
    {
     "name": "stderr",
     "output_type": "stream",
     "text": [
      "/var/folders/jv/yk7cpcx97ln8wgt109nxk6c00000gn/T/ipykernel_2735/2119870106.py:1: SettingWithCopyWarning: \n",
      "A value is trying to be set on a copy of a slice from a DataFrame.\n",
      "Try using .loc[row_indexer,col_indexer] = value instead\n",
      "\n",
      "See the caveats in the documentation: https://pandas.pydata.org/pandas-docs/stable/user_guide/indexing.html#returning-a-view-versus-a-copy\n",
      "  df['Installs']=df['Installs'].apply(lambda x: x.replace(',',''))\n"
     ]
    }
   ],
   "source": [
    "df['Installs']=df['Installs'].apply(lambda x: x.replace(',',''))"
   ]
  },
  {
   "cell_type": "code",
   "execution_count": 26,
   "id": "59df265b",
   "metadata": {
    "hidden": true
   },
   "outputs": [
    {
     "name": "stderr",
     "output_type": "stream",
     "text": [
      "/var/folders/jv/yk7cpcx97ln8wgt109nxk6c00000gn/T/ipykernel_2735/1752585679.py:1: SettingWithCopyWarning: \n",
      "A value is trying to be set on a copy of a slice from a DataFrame.\n",
      "Try using .loc[row_indexer,col_indexer] = value instead\n",
      "\n",
      "See the caveats in the documentation: https://pandas.pydata.org/pandas-docs/stable/user_guide/indexing.html#returning-a-view-versus-a-copy\n",
      "  df['Installs'] = df['Installs'].astype(float)\n"
     ]
    }
   ],
   "source": [
    "df['Installs'] = df['Installs'].astype(float)"
   ]
  },
  {
   "cell_type": "code",
   "execution_count": 27,
   "id": "aad0f5ab",
   "metadata": {
    "hidden": true
   },
   "outputs": [
    {
     "name": "stdout",
     "output_type": "stream",
     "text": [
      "<class 'pandas.core.frame.DataFrame'>\n",
      "Int64Index: 10346 entries, 0 to 10840\n",
      "Data columns (total 13 columns):\n",
      " #   Column          Non-Null Count  Dtype         \n",
      "---  ------          --------------  -----         \n",
      " 0   App             10346 non-null  object        \n",
      " 1   Category        10346 non-null  object        \n",
      " 2   Rating          10346 non-null  float64       \n",
      " 3   Reviews         10346 non-null  float64       \n",
      " 4   Size            10346 non-null  object        \n",
      " 5   Installs        10346 non-null  float64       \n",
      " 6   Type            10346 non-null  object        \n",
      " 7   Price           10346 non-null  object        \n",
      " 8   Content Rating  10346 non-null  object        \n",
      " 9   Genres          10346 non-null  object        \n",
      " 10  Last Updated    10346 non-null  datetime64[ns]\n",
      " 11  Current Ver     10346 non-null  object        \n",
      " 12  Android Ver     10346 non-null  object        \n",
      "dtypes: datetime64[ns](1), float64(3), object(9)\n",
      "memory usage: 1.1+ MB\n"
     ]
    }
   ],
   "source": [
    "df.info()"
   ]
  },
  {
   "cell_type": "markdown",
   "id": "58fcc672",
   "metadata": {
    "heading_collapsed": true,
    "hidden": true
   },
   "source": [
    "## dealing with 'Price'\n"
   ]
  },
  {
   "cell_type": "code",
   "execution_count": 28,
   "id": "1843c3d8",
   "metadata": {
    "hidden": true
   },
   "outputs": [
    {
     "name": "stdout",
     "output_type": "stream",
     "text": [
      "<class 'pandas.core.frame.DataFrame'>\n",
      "Int64Index: 10346 entries, 0 to 10840\n",
      "Data columns (total 13 columns):\n",
      " #   Column          Non-Null Count  Dtype         \n",
      "---  ------          --------------  -----         \n",
      " 0   App             10346 non-null  object        \n",
      " 1   Category        10346 non-null  object        \n",
      " 2   Rating          10346 non-null  float64       \n",
      " 3   Reviews         10346 non-null  float64       \n",
      " 4   Size            10346 non-null  object        \n",
      " 5   Installs        10346 non-null  float64       \n",
      " 6   Type            10346 non-null  object        \n",
      " 7   Price           10346 non-null  object        \n",
      " 8   Content Rating  10346 non-null  object        \n",
      " 9   Genres          10346 non-null  object        \n",
      " 10  Last Updated    10346 non-null  datetime64[ns]\n",
      " 11  Current Ver     10346 non-null  object        \n",
      " 12  Android Ver     10346 non-null  object        \n",
      "dtypes: datetime64[ns](1), float64(3), object(9)\n",
      "memory usage: 1.1+ MB\n"
     ]
    }
   ],
   "source": [
    "df.info()"
   ]
  },
  {
   "cell_type": "code",
   "execution_count": 29,
   "id": "6662eede",
   "metadata": {
    "hidden": true
   },
   "outputs": [
    {
     "data": {
      "text/plain": [
       "array(['0', '$4.99', '$3.99', '$6.99', '$1.49', '$2.99', '$7.99', '$5.99',\n",
       "       '$3.49', '$1.99', '$9.99', '$7.49', '$0.99', '$9.00', '$5.49',\n",
       "       '$10.00', '$24.99', '$11.99', '$79.99', '$16.99', '$14.99',\n",
       "       '$1.00', '$29.99', '$12.99', '$2.49', '$10.99', '$1.50', '$19.99',\n",
       "       '$15.99', '$33.99', '$74.99', '$39.99', '$3.95', '$4.49', '$1.70',\n",
       "       '$8.99', '$2.00', '$3.88', '$25.99', '$399.99', '$17.99',\n",
       "       '$400.00', '$3.02', '$1.76', '$4.84', '$4.77', '$1.61', '$2.50',\n",
       "       '$1.59', '$6.49', '$1.29', '$5.00', '$13.99', '$299.99', '$379.99',\n",
       "       '$37.99', '$18.99', '$389.99', '$19.90', '$8.49', '$1.75',\n",
       "       '$14.00', '$4.85', '$46.99', '$109.99', '$154.99', '$3.08',\n",
       "       '$2.59', '$4.80', '$1.96', '$19.40', '$3.90', '$4.59', '$15.46',\n",
       "       '$3.04', '$4.29', '$2.60', '$3.28', '$4.60', '$28.99', '$2.95',\n",
       "       '$2.90', '$1.97', '$200.00', '$89.99', '$2.56', '$30.99', '$3.61',\n",
       "       '$394.99', '$1.26', '$1.20', '$1.04'], dtype=object)"
      ]
     },
     "execution_count": 29,
     "metadata": {},
     "output_type": "execute_result"
    }
   ],
   "source": [
    "df[\"Price\"].unique()"
   ]
  },
  {
   "cell_type": "code",
   "execution_count": 30,
   "id": "99ab9dbe",
   "metadata": {
    "hidden": true
   },
   "outputs": [
    {
     "name": "stderr",
     "output_type": "stream",
     "text": [
      "/var/folders/jv/yk7cpcx97ln8wgt109nxk6c00000gn/T/ipykernel_2735/2257939553.py:1: SettingWithCopyWarning: \n",
      "A value is trying to be set on a copy of a slice from a DataFrame.\n",
      "Try using .loc[row_indexer,col_indexer] = value instead\n",
      "\n",
      "See the caveats in the documentation: https://pandas.pydata.org/pandas-docs/stable/user_guide/indexing.html#returning-a-view-versus-a-copy\n",
      "  df['Price']=df['Price'].apply(lambda x: x.replace('$',''))\n"
     ]
    },
    {
     "data": {
      "text/plain": [
       "0        0\n",
       "1        0\n",
       "2        0\n",
       "3        0\n",
       "4        0\n",
       "        ..\n",
       "10836    0\n",
       "10837    0\n",
       "10838    0\n",
       "10839    0\n",
       "10840    0\n",
       "Name: Price, Length: 10346, dtype: object"
      ]
     },
     "execution_count": 30,
     "metadata": {},
     "output_type": "execute_result"
    }
   ],
   "source": [
    "df['Price']=df['Price'].apply(lambda x: x.replace('$',''))\n",
    "df['Price']"
   ]
  },
  {
   "cell_type": "code",
   "execution_count": 31,
   "id": "925773b9",
   "metadata": {
    "hidden": true
   },
   "outputs": [
    {
     "name": "stderr",
     "output_type": "stream",
     "text": [
      "/var/folders/jv/yk7cpcx97ln8wgt109nxk6c00000gn/T/ipykernel_2735/785466175.py:1: SettingWithCopyWarning: \n",
      "A value is trying to be set on a copy of a slice from a DataFrame.\n",
      "Try using .loc[row_indexer,col_indexer] = value instead\n",
      "\n",
      "See the caveats in the documentation: https://pandas.pydata.org/pandas-docs/stable/user_guide/indexing.html#returning-a-view-versus-a-copy\n",
      "  df['Price']=pd.to_numeric(df['Price'])\n"
     ]
    }
   ],
   "source": [
    "df['Price']=pd.to_numeric(df['Price'])\n",
    "## df['Price'] = df['Price'].astype(float)"
   ]
  },
  {
   "cell_type": "code",
   "execution_count": 32,
   "id": "ca21ddbf",
   "metadata": {
    "hidden": true
   },
   "outputs": [
    {
     "data": {
      "text/plain": [
       "array([  0.  ,   4.99,   3.99,   6.99,   1.49,   2.99,   7.99,   5.99,\n",
       "         3.49,   1.99,   9.99,   7.49,   0.99,   9.  ,   5.49,  10.  ,\n",
       "        24.99,  11.99,  79.99,  16.99,  14.99,   1.  ,  29.99,  12.99,\n",
       "         2.49,  10.99,   1.5 ,  19.99,  15.99,  33.99,  74.99,  39.99,\n",
       "         3.95,   4.49,   1.7 ,   8.99,   2.  ,   3.88,  25.99, 399.99,\n",
       "        17.99, 400.  ,   3.02,   1.76,   4.84,   4.77,   1.61,   2.5 ,\n",
       "         1.59,   6.49,   1.29,   5.  ,  13.99, 299.99, 379.99,  37.99,\n",
       "        18.99, 389.99,  19.9 ,   8.49,   1.75,  14.  ,   4.85,  46.99,\n",
       "       109.99, 154.99,   3.08,   2.59,   4.8 ,   1.96,  19.4 ,   3.9 ,\n",
       "         4.59,  15.46,   3.04,   4.29,   2.6 ,   3.28,   4.6 ,  28.99,\n",
       "         2.95,   2.9 ,   1.97, 200.  ,  89.99,   2.56,  30.99,   3.61,\n",
       "       394.99,   1.26,   1.2 ,   1.04])"
      ]
     },
     "execution_count": 32,
     "metadata": {},
     "output_type": "execute_result"
    }
   ],
   "source": [
    "df['Price'].unique()"
   ]
  },
  {
   "cell_type": "code",
   "execution_count": 33,
   "id": "f88e70f3",
   "metadata": {
    "hidden": true
   },
   "outputs": [
    {
     "name": "stdout",
     "output_type": "stream",
     "text": [
      "<class 'pandas.core.frame.DataFrame'>\n",
      "Int64Index: 10346 entries, 0 to 10840\n",
      "Data columns (total 13 columns):\n",
      " #   Column          Non-Null Count  Dtype         \n",
      "---  ------          --------------  -----         \n",
      " 0   App             10346 non-null  object        \n",
      " 1   Category        10346 non-null  object        \n",
      " 2   Rating          10346 non-null  float64       \n",
      " 3   Reviews         10346 non-null  float64       \n",
      " 4   Size            10346 non-null  object        \n",
      " 5   Installs        10346 non-null  float64       \n",
      " 6   Type            10346 non-null  object        \n",
      " 7   Price           10346 non-null  float64       \n",
      " 8   Content Rating  10346 non-null  object        \n",
      " 9   Genres          10346 non-null  object        \n",
      " 10  Last Updated    10346 non-null  datetime64[ns]\n",
      " 11  Current Ver     10346 non-null  object        \n",
      " 12  Android Ver     10346 non-null  object        \n",
      "dtypes: datetime64[ns](1), float64(4), object(8)\n",
      "memory usage: 1.1+ MB\n"
     ]
    }
   ],
   "source": [
    "df.info()"
   ]
  },
  {
   "cell_type": "markdown",
   "id": "58b31a3a",
   "metadata": {
    "hidden": true
   },
   "source": [
    "## df dealing with Size"
   ]
  },
  {
   "cell_type": "code",
   "execution_count": 34,
   "id": "c8ec0dce",
   "metadata": {
    "hidden": true
   },
   "outputs": [
    {
     "data": {
      "text/plain": [
       "1525"
      ]
     },
     "execution_count": 34,
     "metadata": {},
     "output_type": "execute_result"
    }
   ],
   "source": [
    "df['Size'].value_counts()['Varies with device']"
   ]
  },
  {
   "cell_type": "code",
   "execution_count": 35,
   "id": "26450336",
   "metadata": {
    "hidden": true
   },
   "outputs": [],
   "source": [
    "df = df[df.Size != 'Varies with device']"
   ]
  },
  {
   "cell_type": "code",
   "execution_count": 36,
   "id": "418d9794",
   "metadata": {
    "hidden": true
   },
   "outputs": [
    {
     "name": "stdout",
     "output_type": "stream",
     "text": [
      "<class 'pandas.core.frame.DataFrame'>\n",
      "Int64Index: 8821 entries, 0 to 10840\n",
      "Data columns (total 13 columns):\n",
      " #   Column          Non-Null Count  Dtype         \n",
      "---  ------          --------------  -----         \n",
      " 0   App             8821 non-null   object        \n",
      " 1   Category        8821 non-null   object        \n",
      " 2   Rating          8821 non-null   float64       \n",
      " 3   Reviews         8821 non-null   float64       \n",
      " 4   Size            8821 non-null   object        \n",
      " 5   Installs        8821 non-null   float64       \n",
      " 6   Type            8821 non-null   object        \n",
      " 7   Price           8821 non-null   float64       \n",
      " 8   Content Rating  8821 non-null   object        \n",
      " 9   Genres          8821 non-null   object        \n",
      " 10  Last Updated    8821 non-null   datetime64[ns]\n",
      " 11  Current Ver     8821 non-null   object        \n",
      " 12  Android Ver     8821 non-null   object        \n",
      "dtypes: datetime64[ns](1), float64(4), object(8)\n",
      "memory usage: 964.8+ KB\n"
     ]
    }
   ],
   "source": [
    "df.info()"
   ]
  },
  {
   "cell_type": "code",
   "execution_count": 37,
   "id": "4a9de922",
   "metadata": {
    "hidden": true
   },
   "outputs": [],
   "source": [
    "#dict for replace\n",
    "_prefix = {'k': 1e3,    # kilo\n",
    "           'M': 1e6,    # mega\n",
    "           'B': 1e9,    # giga\n",
    "}\n",
    "#all keys of dict separated by | (or)\n",
    "k = '|'.join(_prefix.keys())\n",
    "#extract values to new df\n",
    "df1 = df['Size'].str.extract('(?P<a>[0-9.]*)(?P<b>' + k +')*', expand=True)\n",
    "#convert numeric column to float\n",
    "df1.a = df1.a.astype(float)\n",
    "#map values by dictionary, replace NaN (no prefix) to 1\n",
    "df1.b = df1.b.map(_prefix).fillna(1)\n",
    "#multiple columns together\n",
    "df['Size'] = df1.a.mul(df1.b).astype(int)"
   ]
  },
  {
   "cell_type": "markdown",
   "id": "205a9093",
   "metadata": {
    "hidden": true
   },
   "source": [
    "## dealing with column android version"
   ]
  },
  {
   "cell_type": "code",
   "execution_count": 38,
   "id": "efaec97d",
   "metadata": {
    "hidden": true
   },
   "outputs": [],
   "source": [
    "# df=df.rename(columns={\"min_android_version\": \"req_android_version\"})"
   ]
  },
  {
   "cell_type": "code",
   "execution_count": 39,
   "id": "6a110fee",
   "metadata": {
    "hidden": true
   },
   "outputs": [],
   "source": [
    "# df['req_android_version']=df['req_android_version'].apply(lambda x: x.replace('and up',''))"
   ]
  },
  {
   "cell_type": "code",
   "execution_count": 40,
   "id": "46cfc89f",
   "metadata": {
    "hidden": true
   },
   "outputs": [],
   "source": [
    "# df['req_android_version'].unique()"
   ]
  },
  {
   "cell_type": "code",
   "execution_count": 41,
   "id": "a370a45e",
   "metadata": {
    "hidden": true
   },
   "outputs": [],
   "source": [
    "# df['req_android_version']=df['req_android_version'].apply(lambda x: x.strip())"
   ]
  },
  {
   "cell_type": "code",
   "execution_count": 42,
   "id": "6711b34e",
   "metadata": {
    "hidden": true
   },
   "outputs": [],
   "source": [
    "# df['req_android_version'].unique()"
   ]
  },
  {
   "cell_type": "code",
   "execution_count": 43,
   "id": "cce62918",
   "metadata": {
    "hidden": true
   },
   "outputs": [
    {
     "name": "stdout",
     "output_type": "stream",
     "text": [
      "<class 'pandas.core.frame.DataFrame'>\n",
      "Int64Index: 8821 entries, 0 to 10840\n",
      "Data columns (total 13 columns):\n",
      " #   Column          Non-Null Count  Dtype         \n",
      "---  ------          --------------  -----         \n",
      " 0   App             8821 non-null   object        \n",
      " 1   Category        8821 non-null   object        \n",
      " 2   Rating          8821 non-null   float64       \n",
      " 3   Reviews         8821 non-null   float64       \n",
      " 4   Size            8821 non-null   int64         \n",
      " 5   Installs        8821 non-null   float64       \n",
      " 6   Type            8821 non-null   object        \n",
      " 7   Price           8821 non-null   float64       \n",
      " 8   Content Rating  8821 non-null   object        \n",
      " 9   Genres          8821 non-null   object        \n",
      " 10  Last Updated    8821 non-null   datetime64[ns]\n",
      " 11  Current Ver     8821 non-null   object        \n",
      " 12  Android Ver     8821 non-null   object        \n",
      "dtypes: datetime64[ns](1), float64(4), int64(1), object(7)\n",
      "memory usage: 964.8+ KB\n"
     ]
    }
   ],
   "source": [
    "df.info()"
   ]
  },
  {
   "cell_type": "code",
   "execution_count": 44,
   "id": "ade8ac54",
   "metadata": {
    "hidden": true
   },
   "outputs": [
    {
     "data": {
      "text/html": [
       "<div>\n",
       "<style scoped>\n",
       "    .dataframe tbody tr th:only-of-type {\n",
       "        vertical-align: middle;\n",
       "    }\n",
       "\n",
       "    .dataframe tbody tr th {\n",
       "        vertical-align: top;\n",
       "    }\n",
       "\n",
       "    .dataframe thead th {\n",
       "        text-align: right;\n",
       "    }\n",
       "</style>\n",
       "<table border=\"1\" class=\"dataframe\">\n",
       "  <thead>\n",
       "    <tr style=\"text-align: right;\">\n",
       "      <th></th>\n",
       "      <th>App</th>\n",
       "      <th>Category</th>\n",
       "      <th>Rating</th>\n",
       "      <th>Reviews</th>\n",
       "      <th>Size</th>\n",
       "      <th>Installs</th>\n",
       "      <th>Type</th>\n",
       "      <th>Price</th>\n",
       "      <th>Content Rating</th>\n",
       "      <th>Genres</th>\n",
       "      <th>Last Updated</th>\n",
       "      <th>Current Ver</th>\n",
       "      <th>Android Ver</th>\n",
       "    </tr>\n",
       "  </thead>\n",
       "  <tbody>\n",
       "    <tr>\n",
       "      <th>0</th>\n",
       "      <td>Photo Editor &amp; Candy Camera &amp; Grid &amp; ScrapBook</td>\n",
       "      <td>ART_AND_DESIGN</td>\n",
       "      <td>4.1</td>\n",
       "      <td>159.0</td>\n",
       "      <td>19000000</td>\n",
       "      <td>10000.0</td>\n",
       "      <td>Free</td>\n",
       "      <td>0.0</td>\n",
       "      <td>Everyone</td>\n",
       "      <td>Art &amp; Design</td>\n",
       "      <td>2018-01-07</td>\n",
       "      <td>1.0.0</td>\n",
       "      <td>4.0.3 and up</td>\n",
       "    </tr>\n",
       "    <tr>\n",
       "      <th>1</th>\n",
       "      <td>Coloring book moana</td>\n",
       "      <td>ART_AND_DESIGN</td>\n",
       "      <td>3.9</td>\n",
       "      <td>967.0</td>\n",
       "      <td>14000000</td>\n",
       "      <td>500000.0</td>\n",
       "      <td>Free</td>\n",
       "      <td>0.0</td>\n",
       "      <td>Everyone</td>\n",
       "      <td>Art &amp; Design;Pretend Play</td>\n",
       "      <td>2018-01-15</td>\n",
       "      <td>2.0.0</td>\n",
       "      <td>4.0.3 and up</td>\n",
       "    </tr>\n",
       "    <tr>\n",
       "      <th>2</th>\n",
       "      <td>U Launcher Lite – FREE Live Cool Themes, Hide ...</td>\n",
       "      <td>ART_AND_DESIGN</td>\n",
       "      <td>4.7</td>\n",
       "      <td>87510.0</td>\n",
       "      <td>8700000</td>\n",
       "      <td>5000000.0</td>\n",
       "      <td>Free</td>\n",
       "      <td>0.0</td>\n",
       "      <td>Everyone</td>\n",
       "      <td>Art &amp; Design</td>\n",
       "      <td>2018-08-01</td>\n",
       "      <td>1.2.4</td>\n",
       "      <td>4.0.3 and up</td>\n",
       "    </tr>\n",
       "    <tr>\n",
       "      <th>3</th>\n",
       "      <td>Sketch - Draw &amp; Paint</td>\n",
       "      <td>ART_AND_DESIGN</td>\n",
       "      <td>4.5</td>\n",
       "      <td>215644.0</td>\n",
       "      <td>25000000</td>\n",
       "      <td>50000000.0</td>\n",
       "      <td>Free</td>\n",
       "      <td>0.0</td>\n",
       "      <td>Teen</td>\n",
       "      <td>Art &amp; Design</td>\n",
       "      <td>2018-06-08</td>\n",
       "      <td>Varies with device</td>\n",
       "      <td>4.2 and up</td>\n",
       "    </tr>\n",
       "    <tr>\n",
       "      <th>4</th>\n",
       "      <td>Pixel Draw - Number Art Coloring Book</td>\n",
       "      <td>ART_AND_DESIGN</td>\n",
       "      <td>4.3</td>\n",
       "      <td>967.0</td>\n",
       "      <td>2800000</td>\n",
       "      <td>100000.0</td>\n",
       "      <td>Free</td>\n",
       "      <td>0.0</td>\n",
       "      <td>Everyone</td>\n",
       "      <td>Art &amp; Design;Creativity</td>\n",
       "      <td>2018-06-20</td>\n",
       "      <td>1.1</td>\n",
       "      <td>4.4 and up</td>\n",
       "    </tr>\n",
       "  </tbody>\n",
       "</table>\n",
       "</div>"
      ],
      "text/plain": [
       "                                                 App        Category  Rating  \\\n",
       "0     Photo Editor & Candy Camera & Grid & ScrapBook  ART_AND_DESIGN     4.1   \n",
       "1                                Coloring book moana  ART_AND_DESIGN     3.9   \n",
       "2  U Launcher Lite – FREE Live Cool Themes, Hide ...  ART_AND_DESIGN     4.7   \n",
       "3                              Sketch - Draw & Paint  ART_AND_DESIGN     4.5   \n",
       "4              Pixel Draw - Number Art Coloring Book  ART_AND_DESIGN     4.3   \n",
       "\n",
       "    Reviews      Size    Installs  Type  Price Content Rating  \\\n",
       "0     159.0  19000000     10000.0  Free    0.0       Everyone   \n",
       "1     967.0  14000000    500000.0  Free    0.0       Everyone   \n",
       "2   87510.0   8700000   5000000.0  Free    0.0       Everyone   \n",
       "3  215644.0  25000000  50000000.0  Free    0.0           Teen   \n",
       "4     967.0   2800000    100000.0  Free    0.0       Everyone   \n",
       "\n",
       "                      Genres Last Updated         Current Ver   Android Ver  \n",
       "0               Art & Design   2018-01-07               1.0.0  4.0.3 and up  \n",
       "1  Art & Design;Pretend Play   2018-01-15               2.0.0  4.0.3 and up  \n",
       "2               Art & Design   2018-08-01               1.2.4  4.0.3 and up  \n",
       "3               Art & Design   2018-06-08  Varies with device    4.2 and up  \n",
       "4    Art & Design;Creativity   2018-06-20                 1.1    4.4 and up  "
      ]
     },
     "execution_count": 44,
     "metadata": {},
     "output_type": "execute_result"
    }
   ],
   "source": [
    "df.head()"
   ]
  },
  {
   "cell_type": "markdown",
   "id": "6bdc82c1",
   "metadata": {},
   "source": [
    "# Visualisation"
   ]
  },
  {
   "cell_type": "code",
   "execution_count": 45,
   "id": "56c24fed",
   "metadata": {},
   "outputs": [
    {
     "data": {
      "text/html": [
       "<div>\n",
       "<style scoped>\n",
       "    .dataframe tbody tr th:only-of-type {\n",
       "        vertical-align: middle;\n",
       "    }\n",
       "\n",
       "    .dataframe tbody tr th {\n",
       "        vertical-align: top;\n",
       "    }\n",
       "\n",
       "    .dataframe thead th {\n",
       "        text-align: right;\n",
       "    }\n",
       "</style>\n",
       "<table border=\"1\" class=\"dataframe\">\n",
       "  <thead>\n",
       "    <tr style=\"text-align: right;\">\n",
       "      <th></th>\n",
       "      <th>App</th>\n",
       "      <th>Category</th>\n",
       "      <th>Rating</th>\n",
       "      <th>Reviews</th>\n",
       "      <th>Size</th>\n",
       "      <th>Installs</th>\n",
       "      <th>Type</th>\n",
       "      <th>Price</th>\n",
       "      <th>Content Rating</th>\n",
       "      <th>Genres</th>\n",
       "      <th>Last Updated</th>\n",
       "      <th>Current Ver</th>\n",
       "      <th>Android Ver</th>\n",
       "    </tr>\n",
       "  </thead>\n",
       "  <tbody>\n",
       "    <tr>\n",
       "      <th>0</th>\n",
       "      <td>Photo Editor &amp; Candy Camera &amp; Grid &amp; ScrapBook</td>\n",
       "      <td>ART_AND_DESIGN</td>\n",
       "      <td>4.10</td>\n",
       "      <td>159.0</td>\n",
       "      <td>19000000</td>\n",
       "      <td>10000.0</td>\n",
       "      <td>Free</td>\n",
       "      <td>0.0</td>\n",
       "      <td>Everyone</td>\n",
       "      <td>Art &amp; Design</td>\n",
       "      <td>2018-01-07</td>\n",
       "      <td>1.0.0</td>\n",
       "      <td>4.0.3 and up</td>\n",
       "    </tr>\n",
       "    <tr>\n",
       "      <th>1</th>\n",
       "      <td>Coloring book moana</td>\n",
       "      <td>ART_AND_DESIGN</td>\n",
       "      <td>3.90</td>\n",
       "      <td>967.0</td>\n",
       "      <td>14000000</td>\n",
       "      <td>500000.0</td>\n",
       "      <td>Free</td>\n",
       "      <td>0.0</td>\n",
       "      <td>Everyone</td>\n",
       "      <td>Art &amp; Design;Pretend Play</td>\n",
       "      <td>2018-01-15</td>\n",
       "      <td>2.0.0</td>\n",
       "      <td>4.0.3 and up</td>\n",
       "    </tr>\n",
       "    <tr>\n",
       "      <th>2</th>\n",
       "      <td>U Launcher Lite – FREE Live Cool Themes, Hide ...</td>\n",
       "      <td>ART_AND_DESIGN</td>\n",
       "      <td>4.70</td>\n",
       "      <td>87510.0</td>\n",
       "      <td>8700000</td>\n",
       "      <td>5000000.0</td>\n",
       "      <td>Free</td>\n",
       "      <td>0.0</td>\n",
       "      <td>Everyone</td>\n",
       "      <td>Art &amp; Design</td>\n",
       "      <td>2018-08-01</td>\n",
       "      <td>1.2.4</td>\n",
       "      <td>4.0.3 and up</td>\n",
       "    </tr>\n",
       "    <tr>\n",
       "      <th>3</th>\n",
       "      <td>Sketch - Draw &amp; Paint</td>\n",
       "      <td>ART_AND_DESIGN</td>\n",
       "      <td>4.50</td>\n",
       "      <td>215644.0</td>\n",
       "      <td>25000000</td>\n",
       "      <td>50000000.0</td>\n",
       "      <td>Free</td>\n",
       "      <td>0.0</td>\n",
       "      <td>Teen</td>\n",
       "      <td>Art &amp; Design</td>\n",
       "      <td>2018-06-08</td>\n",
       "      <td>Varies with device</td>\n",
       "      <td>4.2 and up</td>\n",
       "    </tr>\n",
       "    <tr>\n",
       "      <th>4</th>\n",
       "      <td>Pixel Draw - Number Art Coloring Book</td>\n",
       "      <td>ART_AND_DESIGN</td>\n",
       "      <td>4.30</td>\n",
       "      <td>967.0</td>\n",
       "      <td>2800000</td>\n",
       "      <td>100000.0</td>\n",
       "      <td>Free</td>\n",
       "      <td>0.0</td>\n",
       "      <td>Everyone</td>\n",
       "      <td>Art &amp; Design;Creativity</td>\n",
       "      <td>2018-06-20</td>\n",
       "      <td>1.1</td>\n",
       "      <td>4.4 and up</td>\n",
       "    </tr>\n",
       "    <tr>\n",
       "      <th>...</th>\n",
       "      <td>...</td>\n",
       "      <td>...</td>\n",
       "      <td>...</td>\n",
       "      <td>...</td>\n",
       "      <td>...</td>\n",
       "      <td>...</td>\n",
       "      <td>...</td>\n",
       "      <td>...</td>\n",
       "      <td>...</td>\n",
       "      <td>...</td>\n",
       "      <td>...</td>\n",
       "      <td>...</td>\n",
       "      <td>...</td>\n",
       "    </tr>\n",
       "    <tr>\n",
       "      <th>10835</th>\n",
       "      <td>FR Forms</td>\n",
       "      <td>BUSINESS</td>\n",
       "      <td>4.19</td>\n",
       "      <td>0.0</td>\n",
       "      <td>9600000</td>\n",
       "      <td>10.0</td>\n",
       "      <td>Free</td>\n",
       "      <td>0.0</td>\n",
       "      <td>Everyone</td>\n",
       "      <td>Business</td>\n",
       "      <td>2016-09-29</td>\n",
       "      <td>1.1.5</td>\n",
       "      <td>4.0 and up</td>\n",
       "    </tr>\n",
       "    <tr>\n",
       "      <th>10836</th>\n",
       "      <td>Sya9a Maroc - FR</td>\n",
       "      <td>FAMILY</td>\n",
       "      <td>4.50</td>\n",
       "      <td>38.0</td>\n",
       "      <td>53000000</td>\n",
       "      <td>5000.0</td>\n",
       "      <td>Free</td>\n",
       "      <td>0.0</td>\n",
       "      <td>Everyone</td>\n",
       "      <td>Education</td>\n",
       "      <td>2017-07-25</td>\n",
       "      <td>1.48</td>\n",
       "      <td>4.1 and up</td>\n",
       "    </tr>\n",
       "    <tr>\n",
       "      <th>10837</th>\n",
       "      <td>Fr. Mike Schmitz Audio Teachings</td>\n",
       "      <td>FAMILY</td>\n",
       "      <td>5.00</td>\n",
       "      <td>4.0</td>\n",
       "      <td>3600000</td>\n",
       "      <td>100.0</td>\n",
       "      <td>Free</td>\n",
       "      <td>0.0</td>\n",
       "      <td>Everyone</td>\n",
       "      <td>Education</td>\n",
       "      <td>2018-07-06</td>\n",
       "      <td>1.0</td>\n",
       "      <td>4.1 and up</td>\n",
       "    </tr>\n",
       "    <tr>\n",
       "      <th>10838</th>\n",
       "      <td>Parkinson Exercices FR</td>\n",
       "      <td>MEDICAL</td>\n",
       "      <td>4.19</td>\n",
       "      <td>3.0</td>\n",
       "      <td>9500000</td>\n",
       "      <td>1000.0</td>\n",
       "      <td>Free</td>\n",
       "      <td>0.0</td>\n",
       "      <td>Everyone</td>\n",
       "      <td>Medical</td>\n",
       "      <td>2017-01-20</td>\n",
       "      <td>1.0</td>\n",
       "      <td>2.2 and up</td>\n",
       "    </tr>\n",
       "    <tr>\n",
       "      <th>10840</th>\n",
       "      <td>iHoroscope - 2018 Daily Horoscope &amp; Astrology</td>\n",
       "      <td>LIFESTYLE</td>\n",
       "      <td>4.50</td>\n",
       "      <td>398307.0</td>\n",
       "      <td>19000000</td>\n",
       "      <td>10000000.0</td>\n",
       "      <td>Free</td>\n",
       "      <td>0.0</td>\n",
       "      <td>Everyone</td>\n",
       "      <td>Lifestyle</td>\n",
       "      <td>2018-07-25</td>\n",
       "      <td>Varies with device</td>\n",
       "      <td>Varies with device</td>\n",
       "    </tr>\n",
       "  </tbody>\n",
       "</table>\n",
       "<p>8821 rows × 13 columns</p>\n",
       "</div>"
      ],
      "text/plain": [
       "                                                     App        Category  \\\n",
       "0         Photo Editor & Candy Camera & Grid & ScrapBook  ART_AND_DESIGN   \n",
       "1                                    Coloring book moana  ART_AND_DESIGN   \n",
       "2      U Launcher Lite – FREE Live Cool Themes, Hide ...  ART_AND_DESIGN   \n",
       "3                                  Sketch - Draw & Paint  ART_AND_DESIGN   \n",
       "4                  Pixel Draw - Number Art Coloring Book  ART_AND_DESIGN   \n",
       "...                                                  ...             ...   \n",
       "10835                                           FR Forms        BUSINESS   \n",
       "10836                                   Sya9a Maroc - FR          FAMILY   \n",
       "10837                   Fr. Mike Schmitz Audio Teachings          FAMILY   \n",
       "10838                             Parkinson Exercices FR         MEDICAL   \n",
       "10840      iHoroscope - 2018 Daily Horoscope & Astrology       LIFESTYLE   \n",
       "\n",
       "       Rating   Reviews      Size    Installs  Type  Price Content Rating  \\\n",
       "0        4.10     159.0  19000000     10000.0  Free    0.0       Everyone   \n",
       "1        3.90     967.0  14000000    500000.0  Free    0.0       Everyone   \n",
       "2        4.70   87510.0   8700000   5000000.0  Free    0.0       Everyone   \n",
       "3        4.50  215644.0  25000000  50000000.0  Free    0.0           Teen   \n",
       "4        4.30     967.0   2800000    100000.0  Free    0.0       Everyone   \n",
       "...       ...       ...       ...         ...   ...    ...            ...   \n",
       "10835    4.19       0.0   9600000        10.0  Free    0.0       Everyone   \n",
       "10836    4.50      38.0  53000000      5000.0  Free    0.0       Everyone   \n",
       "10837    5.00       4.0   3600000       100.0  Free    0.0       Everyone   \n",
       "10838    4.19       3.0   9500000      1000.0  Free    0.0       Everyone   \n",
       "10840    4.50  398307.0  19000000  10000000.0  Free    0.0       Everyone   \n",
       "\n",
       "                          Genres Last Updated         Current Ver  \\\n",
       "0                   Art & Design   2018-01-07               1.0.0   \n",
       "1      Art & Design;Pretend Play   2018-01-15               2.0.0   \n",
       "2                   Art & Design   2018-08-01               1.2.4   \n",
       "3                   Art & Design   2018-06-08  Varies with device   \n",
       "4        Art & Design;Creativity   2018-06-20                 1.1   \n",
       "...                          ...          ...                 ...   \n",
       "10835                   Business   2016-09-29               1.1.5   \n",
       "10836                  Education   2017-07-25                1.48   \n",
       "10837                  Education   2018-07-06                 1.0   \n",
       "10838                    Medical   2017-01-20                 1.0   \n",
       "10840                  Lifestyle   2018-07-25  Varies with device   \n",
       "\n",
       "              Android Ver  \n",
       "0            4.0.3 and up  \n",
       "1            4.0.3 and up  \n",
       "2            4.0.3 and up  \n",
       "3              4.2 and up  \n",
       "4              4.4 and up  \n",
       "...                   ...  \n",
       "10835          4.0 and up  \n",
       "10836          4.1 and up  \n",
       "10837          4.1 and up  \n",
       "10838          2.2 and up  \n",
       "10840  Varies with device  \n",
       "\n",
       "[8821 rows x 13 columns]"
      ]
     },
     "execution_count": 45,
     "metadata": {},
     "output_type": "execute_result"
    }
   ],
   "source": [
    "df"
   ]
  },
  {
   "cell_type": "markdown",
   "id": "4e502b0d",
   "metadata": {},
   "source": [
    "# Numerical data exploration"
   ]
  },
  {
   "cell_type": "markdown",
   "id": "82f5b333",
   "metadata": {},
   "source": [
    "## Explore with Hist (numerical)"
   ]
  },
  {
   "cell_type": "code",
   "execution_count": 46,
   "id": "8fd3d814",
   "metadata": {},
   "outputs": [],
   "source": [
    "#numerical\n",
    "rating=df[\"Rating\"]\n",
    "price=df[\"Price\"]\n",
    "reviews=df[\"Reviews\"]\n",
    "size=df[\"Size\"]\n",
    "installs=df['Installs']\n",
    "\n",
    "#categorical\n",
    "cat=df[\"Category\"]\n",
    "type_=df[\"Type\"]\n",
    "contrate=df[\"Content Rating\"]\n",
    "genre=df[\"Genres\"]"
   ]
  },
  {
   "cell_type": "code",
   "execution_count": 47,
   "id": "ff5af6c7",
   "metadata": {},
   "outputs": [
    {
     "data": {
      "image/png": "[encoded data removed]",
      "text/plain": [
       "<Figure size 432x288 with 1 Axes>"
      ]
     },
     "metadata": {
      "needs_background": "light"
     },
     "output_type": "display_data"
    },
    {
     "data": {
      "image/png": "[encoded data removed]",
      "text/plain": [
       "<Figure size 432x288 with 1 Axes>"
      ]
     },
     "metadata": {
      "needs_background": "light"
     },
     "output_type": "display_data"
    },
    {
     "data": {
      "image/png": "[encoded data removed]",
      "text/plain": [
       "<Figure size 432x288 with 1 Axes>"
      ]
     },
     "metadata": {
      "needs_background": "light"
     },
     "output_type": "display_data"
    },
    {
     "data": {
      "image/png": "[encoded data removed]",
      "text/plain": [
       "<Figure size 432x288 with 1 Axes>"
      ]
     },
     "metadata": {
      "needs_background": "light"
     },
     "output_type": "display_data"
    },
    {
     "data": {
      "image/png": "[encoded data removed]",
      "text/plain": [
       "<Figure size 432x288 with 1 Axes>"
      ]
     },
     "metadata": {
      "needs_background": "light"
     },
     "output_type": "display_data"
    }
   ],
   "source": [
    "import matplotlib.pyplot as plt\n",
    "\n",
    "# the histogram of the rating data\n",
    "n, bins, patches = plt.hist(rating, 10, density=True, facecolor='g', alpha=0.75)\n",
    "\n",
    "plt.xlabel('Rating Score')\n",
    "plt.title('Histogram of Rating (Rating Distribution)')\n",
    "plt.grid(True)\n",
    "plt.show()\n",
    "\n",
    "\n",
    "# the histogram of the price data\n",
    "n, bins, patches = plt.hist(price, 10, density=True, facecolor='g', alpha=0.75)\n",
    "\n",
    "plt.xlabel('price Score')\n",
    "plt.title('Histogram of price (price Distribution)')\n",
    "plt.grid(True)\n",
    "plt.show()\n",
    "\n",
    "# the histogram of the reviews data\n",
    "n, bins, patches = plt.hist(reviews, 10, density=True, facecolor='g', alpha=0.75)\n",
    "\n",
    "plt.xlabel('reviews Score')\n",
    "plt.title('Histogram of reviews (reviews Distribution)')\n",
    "plt.grid(True)\n",
    "plt.show()\n",
    "\n",
    "# the histogram of the size data\n",
    "n, bins, patches = plt.hist(size, 10, density=True, facecolor='g', alpha=0.75)\n",
    "\n",
    "plt.xlabel('size Score')\n",
    "plt.title('Histogram of size (size Distribution)')\n",
    "plt.grid(True)\n",
    "plt.show()\n",
    "\n",
    "# the histogram of the installs data\n",
    "n, bins, patches = plt.hist(installs, 10, density=True, facecolor='g', alpha=0.75)\n",
    "\n",
    "plt.xlabel('installs Score')\n",
    "plt.title('Histogram of installs (installs Distribution)')\n",
    "plt.grid(True)\n",
    "plt.show()"
   ]
  },
  {
   "cell_type": "markdown",
   "id": "a6882f26",
   "metadata": {
    "heading_collapsed": true
   },
   "source": [
    "## Explore with Box (numerical)"
   ]
  },
  {
   "cell_type": "code",
   "execution_count": 48,
   "id": "82e34566",
   "metadata": {
    "hidden": true
   },
   "outputs": [
    {
     "data": {
      "image/png": "[encoded data removed]",
      "text/plain": [
       "<Figure size 432x288 with 1 Axes>"
      ]
     },
     "metadata": {
      "needs_background": "light"
     },
     "output_type": "display_data"
    },
    {
     "data": {
      "image/png": "[encoded data removed]",
      "text/plain": [
       "<Figure size 432x288 with 1 Axes>"
      ]
     },
     "metadata": {
      "needs_background": "light"
     },
     "output_type": "display_data"
    },
    {
     "data": {
      "image/png": "[encoded data removed]",
      "text/plain": [
       "<Figure size 432x288 with 1 Axes>"
      ]
     },
     "metadata": {
      "needs_background": "light"
     },
     "output_type": "display_data"
    },
    {
     "data": {
      "image/png": "[encoded data removed]",
      "text/plain": [
       "<Figure size 432x288 with 1 Axes>"
      ]
     },
     "metadata": {
      "needs_background": "light"
     },
     "output_type": "display_data"
    },
    {
     "data": {
      "image/png": "[encoded data removed]",
      "text/plain": [
       "<Figure size 432x288 with 1 Axes>"
      ]
     },
     "metadata": {
      "needs_background": "light"
     },
     "output_type": "display_data"
    }
   ],
   "source": [
    "#boxplot Rating\n",
    "fig, ax = plt.subplots()\n",
    "ax.boxplot(rating)\n",
    "ax.set_title('rating')\n",
    "\n",
    "plt.show()\n",
    "\n",
    "\n",
    "#boxplot reviews\n",
    "fig, ax = plt.subplots()\n",
    "ax.boxplot(reviews)\n",
    "ax.set_title('reviews')\n",
    "plt.show()\n",
    "\n",
    "\n",
    "#boxplot installs\n",
    "fig, ax = plt.subplots()\n",
    "ax.boxplot(installs)\n",
    "ax.set_title('installs')\n",
    "plt.show()\n",
    "\n",
    "\n",
    "#boxplot size\n",
    "fig, ax = plt.subplots()\n",
    "ax.boxplot(size)\n",
    "ax.set_title('size')\n",
    "plt.show()\n",
    "\n",
    "\n",
    "#boxplot price\n",
    "fig, ax = plt.subplots()\n",
    "ax.boxplot(price)\n",
    "ax.set_title('price')\n",
    "plt.show()"
   ]
  },
  {
   "cell_type": "markdown",
   "id": "68c16ab1",
   "metadata": {},
   "source": [
    "## Explore with Scatter (numerical)"
   ]
  },
  {
   "cell_type": "code",
   "execution_count": 49,
   "id": "cb5983e8",
   "metadata": {},
   "outputs": [
    {
     "data": {
      "image/png": "[encoded data removed]",
      "text/plain": [
       "<Figure size 432x288 with 1 Axes>"
      ]
     },
     "metadata": {
      "needs_background": "light"
     },
     "output_type": "display_data"
    },
    {
     "data": {
      "image/png": "[encoded data removed]",
      "text/plain": [
       "<Figure size 432x288 with 1 Axes>"
      ]
     },
     "metadata": {
      "needs_background": "light"
     },
     "output_type": "display_data"
    },
    {
     "data": {
      "image/png": "[encoded data removed]",
      "text/plain": [
       "<Figure size 432x288 with 1 Axes>"
      ]
     },
     "metadata": {
      "needs_background": "light"
     },
     "output_type": "display_data"
    },
    {
     "data": {
      "image/png": "[encoded data removed]",
      "text/plain": [
       "<Figure size 432x288 with 1 Axes>"
      ]
     },
     "metadata": {
      "needs_background": "light"
     },
     "output_type": "display_data"
    },
    {
     "data": {
      "image/png": "[encoded data removed]",
      "text/plain": [
       "<Figure size 432x288 with 1 Axes>"
      ]
     },
     "metadata": {
      "needs_background": "light"
     },
     "output_type": "display_data"
    },
    {
     "data": {
      "image/png": "[encoded data removed]",
      "text/plain": [
       "<Figure size 432x288 with 1 Axes>"
      ]
     },
     "metadata": {
      "needs_background": "light"
     },
     "output_type": "display_data"
    },
    {
     "data": {
      "image/png": "[encoded data removed]",
      "text/plain": [
       "<Figure size 432x288 with 1 Axes>"
      ]
     },
     "metadata": {
      "needs_background": "light"
     },
     "output_type": "display_data"
    },
    {
     "data": {
      "image/png": "[encoded data removed]",
      "text/plain": [
       "<Figure size 432x288 with 1 Axes>"
      ]
     },
     "metadata": {
      "needs_background": "light"
     },
     "output_type": "display_data"
    }
   ],
   "source": [
    "plt.scatter(rating, price, alpha=0.5)\n",
    "plt.xlabel(\"Rating\")\n",
    "plt.ylabel(\"Price\")\n",
    "plt.show()\n",
    "\n",
    "plt.scatter(reviews, price, alpha=0.5)\n",
    "plt.xlabel(\"Reviews\")\n",
    "plt.ylabel(\"Price\")\n",
    "plt.show()\n",
    "\n",
    "plt.scatter(installs, price, alpha=0.5)\n",
    "plt.xlabel(\"Installs\")\n",
    "plt.ylabel(\"Price\")\n",
    "plt.show()\n",
    "\n",
    "plt.scatter(rating, reviews, alpha=0.5)\n",
    "plt.xlabel(\"Rating\")\n",
    "plt.ylabel(\"Reviews\")\n",
    "plt.show()\n",
    "\n",
    "plt.scatter(installs, reviews, alpha=0.5)\n",
    "plt.xlabel(\"Installs\")\n",
    "plt.ylabel(\"Reviews\")\n",
    "plt.show()\n",
    "\n",
    "plt.scatter(installs, rating, alpha=0.5)\n",
    "plt.xlabel(\"Installs\")\n",
    "plt.ylabel(\"Rating\")\n",
    "plt.show()\n",
    "\n",
    "plt.scatter(rating, size, alpha=0.5)\n",
    "plt.xlabel(\"Rating\")\n",
    "plt.ylabel(\"Size\")\n",
    "plt.show()\n",
    "\n",
    "plt.scatter(size, reviews, alpha=0.5)\n",
    "plt.xlabel(\"Size\")\n",
    "plt.ylabel(\"Reviews\")\n",
    "plt.show()"
   ]
  },
  {
   "cell_type": "markdown",
   "id": "28474e12",
   "metadata": {},
   "source": [
    "## Data exploring categorical with numerical"
   ]
  },
  {
   "cell_type": "code",
   "execution_count": 50,
   "id": "089e429f",
   "metadata": {},
   "outputs": [],
   "source": [
    "#numerical\n",
    "rating=df[\"Rating\"]\n",
    "price=df[\"Price\"]\n",
    "reviews=df[\"Reviews\"]\n",
    "size=df[\"Size\"]\n",
    "installs=df['Installs']\n",
    "\n",
    "#categorical\n",
    "cat=df[\"Category\"]\n",
    "type_=df[\"Type\"]\n",
    "contrate=df[\"Content Rating\"]\n",
    "genre=df[\"Genres\"]"
   ]
  },
  {
   "cell_type": "code",
   "execution_count": 51,
   "id": "7477f755",
   "metadata": {},
   "outputs": [],
   "source": [
    "# fig = plt.figure(figsize = (10, 5))\n",
    "\n",
    "# # creating the bar plot\n",
    "# plt.bar(genre, price, color ='maroon', width = 0.4)\n",
    "\n",
    "# plt.xlabel(\"genre\")\n",
    "# plt.ylabel(\"price\")\n",
    "# plt.title(\"xxxxx\")\n",
    "# plt.show()\n"
   ]
  },
  {
   "cell_type": "code",
   "execution_count": 52,
   "id": "68d42ff0",
   "metadata": {},
   "outputs": [
    {
     "data": {
      "text/html": [
       "<div>\n",
       "<style scoped>\n",
       "    .dataframe tbody tr th:only-of-type {\n",
       "        vertical-align: middle;\n",
       "    }\n",
       "\n",
       "    .dataframe tbody tr th {\n",
       "        vertical-align: top;\n",
       "    }\n",
       "\n",
       "    .dataframe thead tr th {\n",
       "        text-align: left;\n",
       "    }\n",
       "\n",
       "    .dataframe thead tr:last-of-type th {\n",
       "        text-align: right;\n",
       "    }\n",
       "</style>\n",
       "<table border=\"1\" class=\"dataframe\">\n",
       "  <thead>\n",
       "    <tr>\n",
       "      <th></th>\n",
       "      <th colspan=\"8\" halign=\"left\">Rating</th>\n",
       "      <th colspan=\"2\" halign=\"left\">Reviews</th>\n",
       "      <th>...</th>\n",
       "      <th colspan=\"2\" halign=\"left\">Installs</th>\n",
       "      <th colspan=\"8\" halign=\"left\">Price</th>\n",
       "    </tr>\n",
       "    <tr>\n",
       "      <th></th>\n",
       "      <th>count</th>\n",
       "      <th>mean</th>\n",
       "      <th>std</th>\n",
       "      <th>min</th>\n",
       "      <th>25%</th>\n",
       "      <th>50%</th>\n",
       "      <th>75%</th>\n",
       "      <th>max</th>\n",
       "      <th>count</th>\n",
       "      <th>mean</th>\n",
       "      <th>...</th>\n",
       "      <th>75%</th>\n",
       "      <th>max</th>\n",
       "      <th>count</th>\n",
       "      <th>mean</th>\n",
       "      <th>std</th>\n",
       "      <th>min</th>\n",
       "      <th>25%</th>\n",
       "      <th>50%</th>\n",
       "      <th>75%</th>\n",
       "      <th>max</th>\n",
       "    </tr>\n",
       "    <tr>\n",
       "      <th>Genres</th>\n",
       "      <th></th>\n",
       "      <th></th>\n",
       "      <th></th>\n",
       "      <th></th>\n",
       "      <th></th>\n",
       "      <th></th>\n",
       "      <th></th>\n",
       "      <th></th>\n",
       "      <th></th>\n",
       "      <th></th>\n",
       "      <th></th>\n",
       "      <th></th>\n",
       "      <th></th>\n",
       "      <th></th>\n",
       "      <th></th>\n",
       "      <th></th>\n",
       "      <th></th>\n",
       "      <th></th>\n",
       "      <th></th>\n",
       "      <th></th>\n",
       "      <th></th>\n",
       "    </tr>\n",
       "  </thead>\n",
       "  <tbody>\n",
       "    <tr>\n",
       "      <th>Action</th>\n",
       "      <td>323.0</td>\n",
       "      <td>4.260217</td>\n",
       "      <td>0.292448</td>\n",
       "      <td>3.1</td>\n",
       "      <td>4.1000</td>\n",
       "      <td>4.30</td>\n",
       "      <td>4.500</td>\n",
       "      <td>5.0</td>\n",
       "      <td>323.0</td>\n",
       "      <td>7.411709e+05</td>\n",
       "      <td>...</td>\n",
       "      <td>10000000.0</td>\n",
       "      <td>500000000.0</td>\n",
       "      <td>323.0</td>\n",
       "      <td>0.257771</td>\n",
       "      <td>1.290337</td>\n",
       "      <td>0.00</td>\n",
       "      <td>0.00</td>\n",
       "      <td>0.00</td>\n",
       "      <td>0.00</td>\n",
       "      <td>16.99</td>\n",
       "    </tr>\n",
       "    <tr>\n",
       "      <th>Action;Action &amp; Adventure</th>\n",
       "      <td>14.0</td>\n",
       "      <td>4.300000</td>\n",
       "      <td>0.183973</td>\n",
       "      <td>3.9</td>\n",
       "      <td>4.3000</td>\n",
       "      <td>4.30</td>\n",
       "      <td>4.375</td>\n",
       "      <td>4.6</td>\n",
       "      <td>14.0</td>\n",
       "      <td>1.112904e+05</td>\n",
       "      <td>...</td>\n",
       "      <td>8750000.0</td>\n",
       "      <td>10000000.0</td>\n",
       "      <td>14.0</td>\n",
       "      <td>0.640714</td>\n",
       "      <td>1.332236</td>\n",
       "      <td>0.00</td>\n",
       "      <td>0.00</td>\n",
       "      <td>0.00</td>\n",
       "      <td>0.00</td>\n",
       "      <td>3.99</td>\n",
       "    </tr>\n",
       "    <tr>\n",
       "      <th>Adventure</th>\n",
       "      <td>69.0</td>\n",
       "      <td>4.175217</td>\n",
       "      <td>0.318261</td>\n",
       "      <td>3.4</td>\n",
       "      <td>4.0000</td>\n",
       "      <td>4.30</td>\n",
       "      <td>4.400</td>\n",
       "      <td>4.7</td>\n",
       "      <td>69.0</td>\n",
       "      <td>3.610585e+05</td>\n",
       "      <td>...</td>\n",
       "      <td>1000000.0</td>\n",
       "      <td>100000000.0</td>\n",
       "      <td>69.0</td>\n",
       "      <td>0.780870</td>\n",
       "      <td>1.874158</td>\n",
       "      <td>0.00</td>\n",
       "      <td>0.00</td>\n",
       "      <td>0.00</td>\n",
       "      <td>0.00</td>\n",
       "      <td>6.99</td>\n",
       "    </tr>\n",
       "    <tr>\n",
       "      <th>Adventure;Action &amp; Adventure</th>\n",
       "      <td>13.0</td>\n",
       "      <td>4.423077</td>\n",
       "      <td>0.148064</td>\n",
       "      <td>4.1</td>\n",
       "      <td>4.5000</td>\n",
       "      <td>4.50</td>\n",
       "      <td>4.500</td>\n",
       "      <td>4.5</td>\n",
       "      <td>13.0</td>\n",
       "      <td>3.087739e+06</td>\n",
       "      <td>...</td>\n",
       "      <td>100000000.0</td>\n",
       "      <td>100000000.0</td>\n",
       "      <td>13.0</td>\n",
       "      <td>0.767692</td>\n",
       "      <td>1.873914</td>\n",
       "      <td>0.00</td>\n",
       "      <td>0.00</td>\n",
       "      <td>0.00</td>\n",
       "      <td>0.00</td>\n",
       "      <td>4.99</td>\n",
       "    </tr>\n",
       "    <tr>\n",
       "      <th>Adventure;Brain Games</th>\n",
       "      <td>1.0</td>\n",
       "      <td>4.600000</td>\n",
       "      <td>NaN</td>\n",
       "      <td>4.6</td>\n",
       "      <td>4.6000</td>\n",
       "      <td>4.60</td>\n",
       "      <td>4.600</td>\n",
       "      <td>4.6</td>\n",
       "      <td>1.0</td>\n",
       "      <td>7.148000e+03</td>\n",
       "      <td>...</td>\n",
       "      <td>100000.0</td>\n",
       "      <td>100000.0</td>\n",
       "      <td>1.0</td>\n",
       "      <td>2.990000</td>\n",
       "      <td>NaN</td>\n",
       "      <td>2.99</td>\n",
       "      <td>2.99</td>\n",
       "      <td>2.99</td>\n",
       "      <td>2.99</td>\n",
       "      <td>2.99</td>\n",
       "    </tr>\n",
       "    <tr>\n",
       "      <th>...</th>\n",
       "      <td>...</td>\n",
       "      <td>...</td>\n",
       "      <td>...</td>\n",
       "      <td>...</td>\n",
       "      <td>...</td>\n",
       "      <td>...</td>\n",
       "      <td>...</td>\n",
       "      <td>...</td>\n",
       "      <td>...</td>\n",
       "      <td>...</td>\n",
       "      <td>...</td>\n",
       "      <td>...</td>\n",
       "      <td>...</td>\n",
       "      <td>...</td>\n",
       "      <td>...</td>\n",
       "      <td>...</td>\n",
       "      <td>...</td>\n",
       "      <td>...</td>\n",
       "      <td>...</td>\n",
       "      <td>...</td>\n",
       "      <td>...</td>\n",
       "    </tr>\n",
       "    <tr>\n",
       "      <th>Video Players &amp; Editors</th>\n",
       "      <td>130.0</td>\n",
       "      <td>4.044231</td>\n",
       "      <td>0.561954</td>\n",
       "      <td>1.8</td>\n",
       "      <td>3.8000</td>\n",
       "      <td>4.19</td>\n",
       "      <td>4.400</td>\n",
       "      <td>4.9</td>\n",
       "      <td>130.0</td>\n",
       "      <td>1.838560e+05</td>\n",
       "      <td>...</td>\n",
       "      <td>4000000.0</td>\n",
       "      <td>100000000.0</td>\n",
       "      <td>130.0</td>\n",
       "      <td>0.007615</td>\n",
       "      <td>0.086829</td>\n",
       "      <td>0.00</td>\n",
       "      <td>0.00</td>\n",
       "      <td>0.00</td>\n",
       "      <td>0.00</td>\n",
       "      <td>0.99</td>\n",
       "    </tr>\n",
       "    <tr>\n",
       "      <th>Video Players &amp; Editors;Creativity</th>\n",
       "      <td>2.0</td>\n",
       "      <td>4.100000</td>\n",
       "      <td>0.000000</td>\n",
       "      <td>4.1</td>\n",
       "      <td>4.1000</td>\n",
       "      <td>4.10</td>\n",
       "      <td>4.100</td>\n",
       "      <td>4.1</td>\n",
       "      <td>2.0</td>\n",
       "      <td>1.596205e+05</td>\n",
       "      <td>...</td>\n",
       "      <td>5000000.0</td>\n",
       "      <td>5000000.0</td>\n",
       "      <td>2.0</td>\n",
       "      <td>0.000000</td>\n",
       "      <td>0.000000</td>\n",
       "      <td>0.00</td>\n",
       "      <td>0.00</td>\n",
       "      <td>0.00</td>\n",
       "      <td>0.00</td>\n",
       "      <td>0.00</td>\n",
       "    </tr>\n",
       "    <tr>\n",
       "      <th>Video Players &amp; Editors;Music &amp; Video</th>\n",
       "      <td>1.0</td>\n",
       "      <td>4.000000</td>\n",
       "      <td>NaN</td>\n",
       "      <td>4.0</td>\n",
       "      <td>4.0000</td>\n",
       "      <td>4.00</td>\n",
       "      <td>4.000</td>\n",
       "      <td>4.0</td>\n",
       "      <td>1.0</td>\n",
       "      <td>3.977900e+04</td>\n",
       "      <td>...</td>\n",
       "      <td>5000000.0</td>\n",
       "      <td>5000000.0</td>\n",
       "      <td>1.0</td>\n",
       "      <td>0.000000</td>\n",
       "      <td>NaN</td>\n",
       "      <td>0.00</td>\n",
       "      <td>0.00</td>\n",
       "      <td>0.00</td>\n",
       "      <td>0.00</td>\n",
       "      <td>0.00</td>\n",
       "    </tr>\n",
       "    <tr>\n",
       "      <th>Weather</th>\n",
       "      <td>57.0</td>\n",
       "      <td>4.235789</td>\n",
       "      <td>0.323971</td>\n",
       "      <td>3.3</td>\n",
       "      <td>4.1900</td>\n",
       "      <td>4.20</td>\n",
       "      <td>4.500</td>\n",
       "      <td>4.8</td>\n",
       "      <td>57.0</td>\n",
       "      <td>6.835140e+04</td>\n",
       "      <td>...</td>\n",
       "      <td>1000000.0</td>\n",
       "      <td>50000000.0</td>\n",
       "      <td>57.0</td>\n",
       "      <td>0.411228</td>\n",
       "      <td>1.317068</td>\n",
       "      <td>0.00</td>\n",
       "      <td>0.00</td>\n",
       "      <td>0.00</td>\n",
       "      <td>0.00</td>\n",
       "      <td>6.99</td>\n",
       "    </tr>\n",
       "    <tr>\n",
       "      <th>Word</th>\n",
       "      <td>24.0</td>\n",
       "      <td>4.403750</td>\n",
       "      <td>0.342228</td>\n",
       "      <td>3.8</td>\n",
       "      <td>4.1975</td>\n",
       "      <td>4.45</td>\n",
       "      <td>4.700</td>\n",
       "      <td>4.9</td>\n",
       "      <td>24.0</td>\n",
       "      <td>1.542359e+05</td>\n",
       "      <td>...</td>\n",
       "      <td>10000000.0</td>\n",
       "      <td>50000000.0</td>\n",
       "      <td>24.0</td>\n",
       "      <td>0.000000</td>\n",
       "      <td>0.000000</td>\n",
       "      <td>0.00</td>\n",
       "      <td>0.00</td>\n",
       "      <td>0.00</td>\n",
       "      <td>0.00</td>\n",
       "      <td>0.00</td>\n",
       "    </tr>\n",
       "  </tbody>\n",
       "</table>\n",
       "<p>116 rows × 40 columns</p>\n",
       "</div>"
      ],
      "text/plain": [
       "                                      Rating                                   \\\n",
       "                                       count      mean       std  min     25%   \n",
       "Genres                                                                          \n",
       "Action                                 323.0  4.260217  0.292448  3.1  4.1000   \n",
       "Action;Action & Adventure               14.0  4.300000  0.183973  3.9  4.3000   \n",
       "Adventure                               69.0  4.175217  0.318261  3.4  4.0000   \n",
       "Adventure;Action & Adventure            13.0  4.423077  0.148064  4.1  4.5000   \n",
       "Adventure;Brain Games                    1.0  4.600000       NaN  4.6  4.6000   \n",
       "...                                      ...       ...       ...  ...     ...   \n",
       "Video Players & Editors                130.0  4.044231  0.561954  1.8  3.8000   \n",
       "Video Players & Editors;Creativity       2.0  4.100000  0.000000  4.1  4.1000   \n",
       "Video Players & Editors;Music & Video    1.0  4.000000       NaN  4.0  4.0000   \n",
       "Weather                                 57.0  4.235789  0.323971  3.3  4.1900   \n",
       "Word                                    24.0  4.403750  0.342228  3.8  4.1975   \n",
       "\n",
       "                                                        Reviews                \\\n",
       "                                        50%    75%  max   count          mean   \n",
       "Genres                                                                          \n",
       "Action                                 4.30  4.500  5.0   323.0  7.411709e+05   \n",
       "Action;Action & Adventure              4.30  4.375  4.6    14.0  1.112904e+05   \n",
       "Adventure                              4.30  4.400  4.7    69.0  3.610585e+05   \n",
       "Adventure;Action & Adventure           4.50  4.500  4.5    13.0  3.087739e+06   \n",
       "Adventure;Brain Games                  4.60  4.600  4.6     1.0  7.148000e+03   \n",
       "...                                     ...    ...  ...     ...           ...   \n",
       "Video Players & Editors                4.19  4.400  4.9   130.0  1.838560e+05   \n",
       "Video Players & Editors;Creativity     4.10  4.100  4.1     2.0  1.596205e+05   \n",
       "Video Players & Editors;Music & Video  4.00  4.000  4.0     1.0  3.977900e+04   \n",
       "Weather                                4.20  4.500  4.8    57.0  6.835140e+04   \n",
       "Word                                   4.45  4.700  4.9    24.0  1.542359e+05   \n",
       "\n",
       "                                       ...     Installs               Price  \\\n",
       "                                       ...          75%          max  count   \n",
       "Genres                                 ...                                    \n",
       "Action                                 ...   10000000.0  500000000.0  323.0   \n",
       "Action;Action & Adventure              ...    8750000.0   10000000.0   14.0   \n",
       "Adventure                              ...    1000000.0  100000000.0   69.0   \n",
       "Adventure;Action & Adventure           ...  100000000.0  100000000.0   13.0   \n",
       "Adventure;Brain Games                  ...     100000.0     100000.0    1.0   \n",
       "...                                    ...          ...          ...    ...   \n",
       "Video Players & Editors                ...    4000000.0  100000000.0  130.0   \n",
       "Video Players & Editors;Creativity     ...    5000000.0    5000000.0    2.0   \n",
       "Video Players & Editors;Music & Video  ...    5000000.0    5000000.0    1.0   \n",
       "Weather                                ...    1000000.0   50000000.0   57.0   \n",
       "Word                                   ...   10000000.0   50000000.0   24.0   \n",
       "\n",
       "                                                                             \\\n",
       "                                           mean       std   min   25%   50%   \n",
       "Genres                                                                        \n",
       "Action                                 0.257771  1.290337  0.00  0.00  0.00   \n",
       "Action;Action & Adventure              0.640714  1.332236  0.00  0.00  0.00   \n",
       "Adventure                              0.780870  1.874158  0.00  0.00  0.00   \n",
       "Adventure;Action & Adventure           0.767692  1.873914  0.00  0.00  0.00   \n",
       "Adventure;Brain Games                  2.990000       NaN  2.99  2.99  2.99   \n",
       "...                                         ...       ...   ...   ...   ...   \n",
       "Video Players & Editors                0.007615  0.086829  0.00  0.00  0.00   \n",
       "Video Players & Editors;Creativity     0.000000  0.000000  0.00  0.00  0.00   \n",
       "Video Players & Editors;Music & Video  0.000000       NaN  0.00  0.00  0.00   \n",
       "Weather                                0.411228  1.317068  0.00  0.00  0.00   \n",
       "Word                                   0.000000  0.000000  0.00  0.00  0.00   \n",
       "\n",
       "                                                    \n",
       "                                        75%    max  \n",
       "Genres                                              \n",
       "Action                                 0.00  16.99  \n",
       "Action;Action & Adventure              0.00   3.99  \n",
       "Adventure                              0.00   6.99  \n",
       "Adventure;Action & Adventure           0.00   4.99  \n",
       "Adventure;Brain Games                  2.99   2.99  \n",
       "...                                     ...    ...  \n",
       "Video Players & Editors                0.00   0.99  \n",
       "Video Players & Editors;Creativity     0.00   0.00  \n",
       "Video Players & Editors;Music & Video  0.00   0.00  \n",
       "Weather                                0.00   6.99  \n",
       "Word                                   0.00   0.00  \n",
       "\n",
       "[116 rows x 40 columns]"
      ]
     },
     "execution_count": 52,
     "metadata": {},
     "output_type": "execute_result"
    }
   ],
   "source": [
    "groupedgenres=df.groupby('Genres')\n",
    "groupedgenres.describe()"
   ]
  },
  {
   "cell_type": "code",
   "execution_count": 53,
   "id": "b381d329",
   "metadata": {},
   "outputs": [
    {
     "data": {
      "text/plain": [
       "Everyone           7185\n",
       "Teen                951\n",
       "Mature 17+          368\n",
       "Everyone 10+        313\n",
       "Adults only 18+       2\n",
       "Name: Content Rating, dtype: int64"
      ]
     },
     "execution_count": 53,
     "metadata": {},
     "output_type": "execute_result"
    }
   ],
   "source": [
    "#top 5 content rating\n",
    "top5content=df['Content Rating'].value_counts(ascending=False).head(5)\n",
    "top5content"
   ]
  },
  {
   "cell_type": "code",
   "execution_count": 81,
   "id": "e6f01737",
   "metadata": {},
   "outputs": [
    {
     "data": {
      "image/png": "[encoded data removed]",
      "text/plain": [
       "<Figure size 432x288 with 1 Axes>"
      ]
     },
     "metadata": {
      "needs_background": "light"
     },
     "output_type": "display_data"
    }
   ],
   "source": [
    "plot3=top5content.plot(kind='bar',)"
   ]
  },
  {
   "cell_type": "code",
   "execution_count": 55,
   "id": "0dedb29f",
   "metadata": {},
   "outputs": [
    {
     "data": {
      "text/plain": [
       "Tools            737\n",
       "Entertainment    516\n",
       "Education        482\n",
       "Medical          380\n",
       "Business         379\n",
       "Name: Genres, dtype: int64"
      ]
     },
     "execution_count": 55,
     "metadata": {},
     "output_type": "execute_result"
    }
   ],
   "source": [
    "#top 5 genres based on amount\n",
    "top5genres=df['Genres'].value_counts(ascending=False).head(5)\n",
    "top5genres"
   ]
  },
  {
   "cell_type": "code",
   "execution_count": 56,
   "id": "bbcd4646",
   "metadata": {
    "scrolled": true
   },
   "outputs": [
    {
     "data": {
      "text/plain": [
       "Tools               737\n",
       "Entertainment       516\n",
       "Education           482\n",
       "Medical             380\n",
       "Business            379\n",
       "Personalization     352\n",
       "Lifestyle           337\n",
       "Action              323\n",
       "Sports              309\n",
       "Finance             304\n",
       "Productivity        299\n",
       "Communication       260\n",
       "Photography         243\n",
       "Health & Fitness    240\n",
       "News & Magazines    209\n",
       "Name: Genres, dtype: int64"
      ]
     },
     "execution_count": 56,
     "metadata": {},
     "output_type": "execute_result"
    }
   ],
   "source": [
    "# top 15 ganres based on amount\n",
    "top15genres=df['Genres'].value_counts(ascending=False).head(15)\n",
    "top15genres"
   ]
  },
  {
   "cell_type": "code",
   "execution_count": 57,
   "id": "2c70ca00",
   "metadata": {},
   "outputs": [],
   "source": [
    "top15genreslist=['Tools','Entertainment','Education','Medical','Business','Personalization','Lifestyle','Action','Sports','Finance','Productivity','Communication','Photography','Health & Fitness','News & Magazines' ]"
   ]
  },
  {
   "cell_type": "code",
   "execution_count": 58,
   "id": "094c6cb6",
   "metadata": {},
   "outputs": [
    {
     "data": {
      "image/png": "[encoded data removed]",
      "text/plain": [
       "<Figure size 432x288 with 1 Axes>"
      ]
     },
     "metadata": {
      "needs_background": "light"
     },
     "output_type": "display_data"
    }
   ],
   "source": [
    "plot2=top15genres.plot(kind='bar')"
   ]
  },
  {
   "cell_type": "code",
   "execution_count": 59,
   "id": "2a10bc4f",
   "metadata": {},
   "outputs": [
    {
     "data": {
      "text/plain": [
       "Entertainment;Education          1\n",
       "Racing;Pretend Play              1\n",
       "Arcade;Pretend Play              1\n",
       "Music & Audio;Music & Video      1\n",
       "Health & Fitness;Education       1\n",
       "                              ... \n",
       "Business                       379\n",
       "Medical                        380\n",
       "Education                      482\n",
       "Entertainment                  516\n",
       "Tools                          737\n",
       "Name: Genres, Length: 116, dtype: int64"
      ]
     },
     "execution_count": 59,
     "metadata": {},
     "output_type": "execute_result"
    }
   ],
   "source": [
    "#worst 5 genres based on amount\n",
    "top5genres=df['Genres'].value_counts(ascending=True)\n",
    "top5genres"
   ]
  },
  {
   "cell_type": "code",
   "execution_count": 60,
   "id": "d38d2c70",
   "metadata": {},
   "outputs": [
    {
     "data": {
      "text/plain": [
       "<pandas.core.indexing._LocIndexer at 0x134ce87c0>"
      ]
     },
     "execution_count": 60,
     "metadata": {},
     "output_type": "execute_result"
    }
   ],
   "source": [
    "df['Genres'].loc"
   ]
  },
  {
   "cell_type": "code",
   "execution_count": 61,
   "id": "26878f0d",
   "metadata": {
    "scrolled": true
   },
   "outputs": [
    {
     "data": {
      "text/html": [
       "<div>\n",
       "<style scoped>\n",
       "    .dataframe tbody tr th:only-of-type {\n",
       "        vertical-align: middle;\n",
       "    }\n",
       "\n",
       "    .dataframe tbody tr th {\n",
       "        vertical-align: top;\n",
       "    }\n",
       "\n",
       "    .dataframe thead th {\n",
       "        text-align: right;\n",
       "    }\n",
       "</style>\n",
       "<table border=\"1\" class=\"dataframe\">\n",
       "  <thead>\n",
       "    <tr style=\"text-align: right;\">\n",
       "      <th></th>\n",
       "      <th>Rating</th>\n",
       "    </tr>\n",
       "    <tr>\n",
       "      <th>Genres</th>\n",
       "      <th></th>\n",
       "    </tr>\n",
       "  </thead>\n",
       "  <tbody>\n",
       "    <tr>\n",
       "      <th>Action</th>\n",
       "      <td>3.661716</td>\n",
       "    </tr>\n",
       "    <tr>\n",
       "      <th>Action;Action &amp; Adventure</th>\n",
       "      <td>0.158712</td>\n",
       "    </tr>\n",
       "    <tr>\n",
       "      <th>Adventure</th>\n",
       "      <td>0.782224</td>\n",
       "    </tr>\n",
       "    <tr>\n",
       "      <th>Adventure;Action &amp; Adventure</th>\n",
       "      <td>0.147376</td>\n",
       "    </tr>\n",
       "    <tr>\n",
       "      <th>Adventure;Brain Games</th>\n",
       "      <td>0.011337</td>\n",
       "    </tr>\n",
       "    <tr>\n",
       "      <th>...</th>\n",
       "      <td>...</td>\n",
       "    </tr>\n",
       "    <tr>\n",
       "      <th>Video Players &amp; Editors</th>\n",
       "      <td>1.473756</td>\n",
       "    </tr>\n",
       "    <tr>\n",
       "      <th>Video Players &amp; Editors;Creativity</th>\n",
       "      <td>0.022673</td>\n",
       "    </tr>\n",
       "    <tr>\n",
       "      <th>Video Players &amp; Editors;Music &amp; Video</th>\n",
       "      <td>0.011337</td>\n",
       "    </tr>\n",
       "    <tr>\n",
       "      <th>Weather</th>\n",
       "      <td>0.646185</td>\n",
       "    </tr>\n",
       "    <tr>\n",
       "      <th>Word</th>\n",
       "      <td>0.272078</td>\n",
       "    </tr>\n",
       "  </tbody>\n",
       "</table>\n",
       "<p>116 rows × 1 columns</p>\n",
       "</div>"
      ],
      "text/plain": [
       "                                         Rating\n",
       "Genres                                         \n",
       "Action                                 3.661716\n",
       "Action;Action & Adventure              0.158712\n",
       "Adventure                              0.782224\n",
       "Adventure;Action & Adventure           0.147376\n",
       "Adventure;Brain Games                  0.011337\n",
       "...                                         ...\n",
       "Video Players & Editors                1.473756\n",
       "Video Players & Editors;Creativity     0.022673\n",
       "Video Players & Editors;Music & Video  0.011337\n",
       "Weather                                0.646185\n",
       "Word                                   0.272078\n",
       "\n",
       "[116 rows x 1 columns]"
      ]
     },
     "execution_count": 61,
     "metadata": {},
     "output_type": "execute_result"
    }
   ],
   "source": [
    "# popular genres with bad rating\n",
    "\n",
    "genres_analysis = df[['Genres','Rating']].groupby(by=['Genres']).count()/len(df)*100\n",
    "#class_analysis.columns = ['ticket_ratio']\n",
    "genres_analysis"
   ]
  },
  {
   "cell_type": "code",
   "execution_count": 62,
   "id": "a542bb7e",
   "metadata": {},
   "outputs": [],
   "source": [
    "topgenres_=df.loc[ df.Genres.isin(top15genreslist), : ]"
   ]
  },
  {
   "cell_type": "code",
   "execution_count": 63,
   "id": "ad7f8bf8",
   "metadata": {},
   "outputs": [],
   "source": [
    "topgenres_.reset_index(inplace=True)"
   ]
  },
  {
   "cell_type": "code",
   "execution_count": 64,
   "id": "33b88ae0",
   "metadata": {},
   "outputs": [
    {
     "data": {
      "text/html": [
       "<div>\n",
       "<style scoped>\n",
       "    .dataframe tbody tr th:only-of-type {\n",
       "        vertical-align: middle;\n",
       "    }\n",
       "\n",
       "    .dataframe tbody tr th {\n",
       "        vertical-align: top;\n",
       "    }\n",
       "\n",
       "    .dataframe thead th {\n",
       "        text-align: right;\n",
       "    }\n",
       "</style>\n",
       "<table border=\"1\" class=\"dataframe\">\n",
       "  <thead>\n",
       "    <tr style=\"text-align: right;\">\n",
       "      <th></th>\n",
       "      <th>index</th>\n",
       "      <th>App</th>\n",
       "      <th>Category</th>\n",
       "      <th>Rating</th>\n",
       "      <th>Reviews</th>\n",
       "      <th>Size</th>\n",
       "      <th>Installs</th>\n",
       "      <th>Type</th>\n",
       "      <th>Price</th>\n",
       "      <th>Content Rating</th>\n",
       "      <th>Genres</th>\n",
       "      <th>Last Updated</th>\n",
       "      <th>Current Ver</th>\n",
       "      <th>Android Ver</th>\n",
       "    </tr>\n",
       "  </thead>\n",
       "  <tbody>\n",
       "    <tr>\n",
       "      <th>0</th>\n",
       "      <td>190</td>\n",
       "      <td>ADP Mobile Solutions</td>\n",
       "      <td>BUSINESS</td>\n",
       "      <td>4.30</td>\n",
       "      <td>85185.0</td>\n",
       "      <td>29000000</td>\n",
       "      <td>5000000.0</td>\n",
       "      <td>Free</td>\n",
       "      <td>0.0</td>\n",
       "      <td>Everyone</td>\n",
       "      <td>Business</td>\n",
       "      <td>2018-07-17</td>\n",
       "      <td>3.4.2</td>\n",
       "      <td>5.0 and up</td>\n",
       "    </tr>\n",
       "    <tr>\n",
       "      <th>1</th>\n",
       "      <td>194</td>\n",
       "      <td>OfficeSuite : Free Office + PDF Editor</td>\n",
       "      <td>BUSINESS</td>\n",
       "      <td>4.30</td>\n",
       "      <td>1002861.0</td>\n",
       "      <td>35000000</td>\n",
       "      <td>100000000.0</td>\n",
       "      <td>Free</td>\n",
       "      <td>0.0</td>\n",
       "      <td>Everyone</td>\n",
       "      <td>Business</td>\n",
       "      <td>2018-08-02</td>\n",
       "      <td>9.7.14188</td>\n",
       "      <td>4.1 and up</td>\n",
       "    </tr>\n",
       "    <tr>\n",
       "      <th>2</th>\n",
       "      <td>195</td>\n",
       "      <td>USPS MOBILE®</td>\n",
       "      <td>BUSINESS</td>\n",
       "      <td>3.90</td>\n",
       "      <td>16589.0</td>\n",
       "      <td>9100000</td>\n",
       "      <td>1000000.0</td>\n",
       "      <td>Free</td>\n",
       "      <td>0.0</td>\n",
       "      <td>Everyone</td>\n",
       "      <td>Business</td>\n",
       "      <td>2018-06-14</td>\n",
       "      <td>4.9.10</td>\n",
       "      <td>4.0.3 and up</td>\n",
       "    </tr>\n",
       "    <tr>\n",
       "      <th>3</th>\n",
       "      <td>196</td>\n",
       "      <td>Job Search by ZipRecruiter</td>\n",
       "      <td>BUSINESS</td>\n",
       "      <td>4.80</td>\n",
       "      <td>148945.0</td>\n",
       "      <td>25000000</td>\n",
       "      <td>1000000.0</td>\n",
       "      <td>Free</td>\n",
       "      <td>0.0</td>\n",
       "      <td>Everyone</td>\n",
       "      <td>Business</td>\n",
       "      <td>2018-07-19</td>\n",
       "      <td>5.2.8</td>\n",
       "      <td>5.0 and up</td>\n",
       "    </tr>\n",
       "    <tr>\n",
       "      <th>4</th>\n",
       "      <td>197</td>\n",
       "      <td>Curriculum vitae App CV Builder Free Resume Maker</td>\n",
       "      <td>BUSINESS</td>\n",
       "      <td>4.50</td>\n",
       "      <td>4458.0</td>\n",
       "      <td>3900000</td>\n",
       "      <td>500000.0</td>\n",
       "      <td>Free</td>\n",
       "      <td>0.0</td>\n",
       "      <td>Everyone</td>\n",
       "      <td>Business</td>\n",
       "      <td>2018-07-08</td>\n",
       "      <td>3.3</td>\n",
       "      <td>4.1 and up</td>\n",
       "    </tr>\n",
       "    <tr>\n",
       "      <th>...</th>\n",
       "      <td>...</td>\n",
       "      <td>...</td>\n",
       "      <td>...</td>\n",
       "      <td>...</td>\n",
       "      <td>...</td>\n",
       "      <td>...</td>\n",
       "      <td>...</td>\n",
       "      <td>...</td>\n",
       "      <td>...</td>\n",
       "      <td>...</td>\n",
       "      <td>...</td>\n",
       "      <td>...</td>\n",
       "      <td>...</td>\n",
       "      <td>...</td>\n",
       "    </tr>\n",
       "    <tr>\n",
       "      <th>5365</th>\n",
       "      <td>10835</td>\n",
       "      <td>FR Forms</td>\n",
       "      <td>BUSINESS</td>\n",
       "      <td>4.19</td>\n",
       "      <td>0.0</td>\n",
       "      <td>9600000</td>\n",
       "      <td>10.0</td>\n",
       "      <td>Free</td>\n",
       "      <td>0.0</td>\n",
       "      <td>Everyone</td>\n",
       "      <td>Business</td>\n",
       "      <td>2016-09-29</td>\n",
       "      <td>1.1.5</td>\n",
       "      <td>4.0 and up</td>\n",
       "    </tr>\n",
       "    <tr>\n",
       "      <th>5366</th>\n",
       "      <td>10836</td>\n",
       "      <td>Sya9a Maroc - FR</td>\n",
       "      <td>FAMILY</td>\n",
       "      <td>4.50</td>\n",
       "      <td>38.0</td>\n",
       "      <td>53000000</td>\n",
       "      <td>5000.0</td>\n",
       "      <td>Free</td>\n",
       "      <td>0.0</td>\n",
       "      <td>Everyone</td>\n",
       "      <td>Education</td>\n",
       "      <td>2017-07-25</td>\n",
       "      <td>1.48</td>\n",
       "      <td>4.1 and up</td>\n",
       "    </tr>\n",
       "    <tr>\n",
       "      <th>5367</th>\n",
       "      <td>10837</td>\n",
       "      <td>Fr. Mike Schmitz Audio Teachings</td>\n",
       "      <td>FAMILY</td>\n",
       "      <td>5.00</td>\n",
       "      <td>4.0</td>\n",
       "      <td>3600000</td>\n",
       "      <td>100.0</td>\n",
       "      <td>Free</td>\n",
       "      <td>0.0</td>\n",
       "      <td>Everyone</td>\n",
       "      <td>Education</td>\n",
       "      <td>2018-07-06</td>\n",
       "      <td>1.0</td>\n",
       "      <td>4.1 and up</td>\n",
       "    </tr>\n",
       "    <tr>\n",
       "      <th>5368</th>\n",
       "      <td>10838</td>\n",
       "      <td>Parkinson Exercices FR</td>\n",
       "      <td>MEDICAL</td>\n",
       "      <td>4.19</td>\n",
       "      <td>3.0</td>\n",
       "      <td>9500000</td>\n",
       "      <td>1000.0</td>\n",
       "      <td>Free</td>\n",
       "      <td>0.0</td>\n",
       "      <td>Everyone</td>\n",
       "      <td>Medical</td>\n",
       "      <td>2017-01-20</td>\n",
       "      <td>1.0</td>\n",
       "      <td>2.2 and up</td>\n",
       "    </tr>\n",
       "    <tr>\n",
       "      <th>5369</th>\n",
       "      <td>10840</td>\n",
       "      <td>iHoroscope - 2018 Daily Horoscope &amp; Astrology</td>\n",
       "      <td>LIFESTYLE</td>\n",
       "      <td>4.50</td>\n",
       "      <td>398307.0</td>\n",
       "      <td>19000000</td>\n",
       "      <td>10000000.0</td>\n",
       "      <td>Free</td>\n",
       "      <td>0.0</td>\n",
       "      <td>Everyone</td>\n",
       "      <td>Lifestyle</td>\n",
       "      <td>2018-07-25</td>\n",
       "      <td>Varies with device</td>\n",
       "      <td>Varies with device</td>\n",
       "    </tr>\n",
       "  </tbody>\n",
       "</table>\n",
       "<p>5370 rows × 14 columns</p>\n",
       "</div>"
      ],
      "text/plain": [
       "      index                                                App   Category  \\\n",
       "0       190                               ADP Mobile Solutions   BUSINESS   \n",
       "1       194             OfficeSuite : Free Office + PDF Editor   BUSINESS   \n",
       "2       195                                       USPS MOBILE®   BUSINESS   \n",
       "3       196                         Job Search by ZipRecruiter   BUSINESS   \n",
       "4       197  Curriculum vitae App CV Builder Free Resume Maker   BUSINESS   \n",
       "...     ...                                                ...        ...   \n",
       "5365  10835                                           FR Forms   BUSINESS   \n",
       "5366  10836                                   Sya9a Maroc - FR     FAMILY   \n",
       "5367  10837                   Fr. Mike Schmitz Audio Teachings     FAMILY   \n",
       "5368  10838                             Parkinson Exercices FR    MEDICAL   \n",
       "5369  10840      iHoroscope - 2018 Daily Horoscope & Astrology  LIFESTYLE   \n",
       "\n",
       "      Rating    Reviews      Size     Installs  Type  Price Content Rating  \\\n",
       "0       4.30    85185.0  29000000    5000000.0  Free    0.0       Everyone   \n",
       "1       4.30  1002861.0  35000000  100000000.0  Free    0.0       Everyone   \n",
       "2       3.90    16589.0   9100000    1000000.0  Free    0.0       Everyone   \n",
       "3       4.80   148945.0  25000000    1000000.0  Free    0.0       Everyone   \n",
       "4       4.50     4458.0   3900000     500000.0  Free    0.0       Everyone   \n",
       "...      ...        ...       ...          ...   ...    ...            ...   \n",
       "5365    4.19        0.0   9600000         10.0  Free    0.0       Everyone   \n",
       "5366    4.50       38.0  53000000       5000.0  Free    0.0       Everyone   \n",
       "5367    5.00        4.0   3600000        100.0  Free    0.0       Everyone   \n",
       "5368    4.19        3.0   9500000       1000.0  Free    0.0       Everyone   \n",
       "5369    4.50   398307.0  19000000   10000000.0  Free    0.0       Everyone   \n",
       "\n",
       "         Genres Last Updated         Current Ver         Android Ver  \n",
       "0      Business   2018-07-17               3.4.2          5.0 and up  \n",
       "1      Business   2018-08-02           9.7.14188          4.1 and up  \n",
       "2      Business   2018-06-14              4.9.10        4.0.3 and up  \n",
       "3      Business   2018-07-19               5.2.8          5.0 and up  \n",
       "4      Business   2018-07-08                 3.3          4.1 and up  \n",
       "...         ...          ...                 ...                 ...  \n",
       "5365   Business   2016-09-29               1.1.5          4.0 and up  \n",
       "5366  Education   2017-07-25                1.48          4.1 and up  \n",
       "5367  Education   2018-07-06                 1.0          4.1 and up  \n",
       "5368    Medical   2017-01-20                 1.0          2.2 and up  \n",
       "5369  Lifestyle   2018-07-25  Varies with device  Varies with device  \n",
       "\n",
       "[5370 rows x 14 columns]"
      ]
     },
     "execution_count": 64,
     "metadata": {},
     "output_type": "execute_result"
    }
   ],
   "source": [
    "topgenres_"
   ]
  },
  {
   "cell_type": "code",
   "execution_count": 65,
   "id": "22a28145",
   "metadata": {},
   "outputs": [
    {
     "data": {
      "text/html": [
       "<div>\n",
       "<style scoped>\n",
       "    .dataframe tbody tr th:only-of-type {\n",
       "        vertical-align: middle;\n",
       "    }\n",
       "\n",
       "    .dataframe tbody tr th {\n",
       "        vertical-align: top;\n",
       "    }\n",
       "\n",
       "    .dataframe thead th {\n",
       "        text-align: right;\n",
       "    }\n",
       "</style>\n",
       "<table border=\"1\" class=\"dataframe\">\n",
       "  <thead>\n",
       "    <tr style=\"text-align: right;\">\n",
       "      <th></th>\n",
       "      <th>Category</th>\n",
       "      <th>Rating</th>\n",
       "      <th>Reviews</th>\n",
       "      <th>Type</th>\n",
       "      <th>Genres</th>\n",
       "    </tr>\n",
       "  </thead>\n",
       "  <tbody>\n",
       "    <tr>\n",
       "      <th>0</th>\n",
       "      <td>BUSINESS</td>\n",
       "      <td>4.30</td>\n",
       "      <td>85185.0</td>\n",
       "      <td>Free</td>\n",
       "      <td>Business</td>\n",
       "    </tr>\n",
       "    <tr>\n",
       "      <th>1</th>\n",
       "      <td>BUSINESS</td>\n",
       "      <td>4.30</td>\n",
       "      <td>1002861.0</td>\n",
       "      <td>Free</td>\n",
       "      <td>Business</td>\n",
       "    </tr>\n",
       "    <tr>\n",
       "      <th>2</th>\n",
       "      <td>BUSINESS</td>\n",
       "      <td>3.90</td>\n",
       "      <td>16589.0</td>\n",
       "      <td>Free</td>\n",
       "      <td>Business</td>\n",
       "    </tr>\n",
       "    <tr>\n",
       "      <th>3</th>\n",
       "      <td>BUSINESS</td>\n",
       "      <td>4.80</td>\n",
       "      <td>148945.0</td>\n",
       "      <td>Free</td>\n",
       "      <td>Business</td>\n",
       "    </tr>\n",
       "    <tr>\n",
       "      <th>4</th>\n",
       "      <td>BUSINESS</td>\n",
       "      <td>4.50</td>\n",
       "      <td>4458.0</td>\n",
       "      <td>Free</td>\n",
       "      <td>Business</td>\n",
       "    </tr>\n",
       "    <tr>\n",
       "      <th>...</th>\n",
       "      <td>...</td>\n",
       "      <td>...</td>\n",
       "      <td>...</td>\n",
       "      <td>...</td>\n",
       "      <td>...</td>\n",
       "    </tr>\n",
       "    <tr>\n",
       "      <th>5365</th>\n",
       "      <td>BUSINESS</td>\n",
       "      <td>4.19</td>\n",
       "      <td>0.0</td>\n",
       "      <td>Free</td>\n",
       "      <td>Business</td>\n",
       "    </tr>\n",
       "    <tr>\n",
       "      <th>5366</th>\n",
       "      <td>FAMILY</td>\n",
       "      <td>4.50</td>\n",
       "      <td>38.0</td>\n",
       "      <td>Free</td>\n",
       "      <td>Education</td>\n",
       "    </tr>\n",
       "    <tr>\n",
       "      <th>5367</th>\n",
       "      <td>FAMILY</td>\n",
       "      <td>5.00</td>\n",
       "      <td>4.0</td>\n",
       "      <td>Free</td>\n",
       "      <td>Education</td>\n",
       "    </tr>\n",
       "    <tr>\n",
       "      <th>5368</th>\n",
       "      <td>MEDICAL</td>\n",
       "      <td>4.19</td>\n",
       "      <td>3.0</td>\n",
       "      <td>Free</td>\n",
       "      <td>Medical</td>\n",
       "    </tr>\n",
       "    <tr>\n",
       "      <th>5369</th>\n",
       "      <td>LIFESTYLE</td>\n",
       "      <td>4.50</td>\n",
       "      <td>398307.0</td>\n",
       "      <td>Free</td>\n",
       "      <td>Lifestyle</td>\n",
       "    </tr>\n",
       "  </tbody>\n",
       "</table>\n",
       "<p>5370 rows × 5 columns</p>\n",
       "</div>"
      ],
      "text/plain": [
       "       Category  Rating    Reviews  Type     Genres\n",
       "0      BUSINESS    4.30    85185.0  Free   Business\n",
       "1      BUSINESS    4.30  1002861.0  Free   Business\n",
       "2      BUSINESS    3.90    16589.0  Free   Business\n",
       "3      BUSINESS    4.80   148945.0  Free   Business\n",
       "4      BUSINESS    4.50     4458.0  Free   Business\n",
       "...         ...     ...        ...   ...        ...\n",
       "5365   BUSINESS    4.19        0.0  Free   Business\n",
       "5366     FAMILY    4.50       38.0  Free  Education\n",
       "5367     FAMILY    5.00        4.0  Free  Education\n",
       "5368    MEDICAL    4.19        3.0  Free    Medical\n",
       "5369  LIFESTYLE    4.50   398307.0  Free  Lifestyle\n",
       "\n",
       "[5370 rows x 5 columns]"
      ]
     },
     "execution_count": 65,
     "metadata": {},
     "output_type": "execute_result"
    }
   ],
   "source": [
    "topgenres_[[\"Category\", \"Rating\", \"Reviews\",\"Type\",\"Genres\"]]"
   ]
  },
  {
   "cell_type": "code",
   "execution_count": 66,
   "id": "71795942",
   "metadata": {},
   "outputs": [
    {
     "data": {
      "text/html": [
       "<div>\n",
       "<style scoped>\n",
       "    .dataframe tbody tr th:only-of-type {\n",
       "        vertical-align: middle;\n",
       "    }\n",
       "\n",
       "    .dataframe tbody tr th {\n",
       "        vertical-align: top;\n",
       "    }\n",
       "\n",
       "    .dataframe thead th {\n",
       "        text-align: right;\n",
       "    }\n",
       "</style>\n",
       "<table border=\"1\" class=\"dataframe\">\n",
       "  <thead>\n",
       "    <tr style=\"text-align: right;\">\n",
       "      <th></th>\n",
       "      <th>index</th>\n",
       "      <th>Reviews</th>\n",
       "      <th>Size</th>\n",
       "      <th>Installs</th>\n",
       "      <th>Price</th>\n",
       "    </tr>\n",
       "    <tr>\n",
       "      <th>Rating</th>\n",
       "      <th></th>\n",
       "      <th></th>\n",
       "      <th></th>\n",
       "      <th></th>\n",
       "      <th></th>\n",
       "    </tr>\n",
       "  </thead>\n",
       "  <tbody>\n",
       "    <tr>\n",
       "      <th>1.00</th>\n",
       "      <td>7745.857143</td>\n",
       "      <td>1.857143</td>\n",
       "      <td>1.533571e+07</td>\n",
       "      <td>2.971429e+02</td>\n",
       "      <td>0.320000</td>\n",
       "    </tr>\n",
       "    <tr>\n",
       "      <th>1.20</th>\n",
       "      <td>10082.000000</td>\n",
       "      <td>44.000000</td>\n",
       "      <td>2.700000e+07</td>\n",
       "      <td>1.000000e+03</td>\n",
       "      <td>0.000000</td>\n",
       "    </tr>\n",
       "    <tr>\n",
       "      <th>1.40</th>\n",
       "      <td>6842.500000</td>\n",
       "      <td>32.500000</td>\n",
       "      <td>8.550000e+06</td>\n",
       "      <td>3.000000e+03</td>\n",
       "      <td>0.000000</td>\n",
       "    </tr>\n",
       "    <tr>\n",
       "      <th>1.50</th>\n",
       "      <td>8314.000000</td>\n",
       "      <td>20.333333</td>\n",
       "      <td>1.800000e+07</td>\n",
       "      <td>3.683333e+02</td>\n",
       "      <td>0.000000</td>\n",
       "    </tr>\n",
       "    <tr>\n",
       "      <th>1.60</th>\n",
       "      <td>6808.333333</td>\n",
       "      <td>227.666667</td>\n",
       "      <td>1.553333e+07</td>\n",
       "      <td>5.033333e+04</td>\n",
       "      <td>0.000000</td>\n",
       "    </tr>\n",
       "    <tr>\n",
       "      <th>1.70</th>\n",
       "      <td>6862.714286</td>\n",
       "      <td>335.142857</td>\n",
       "      <td>9.614286e+06</td>\n",
       "      <td>1.152857e+04</td>\n",
       "      <td>0.712857</td>\n",
       "    </tr>\n",
       "    <tr>\n",
       "      <th>1.80</th>\n",
       "      <td>6322.833333</td>\n",
       "      <td>562.500000</td>\n",
       "      <td>7.214500e+06</td>\n",
       "      <td>8.408333e+04</td>\n",
       "      <td>0.248333</td>\n",
       "    </tr>\n",
       "    <tr>\n",
       "      <th>1.90</th>\n",
       "      <td>6178.200000</td>\n",
       "      <td>46.000000</td>\n",
       "      <td>9.700000e+06</td>\n",
       "      <td>3.400000e+03</td>\n",
       "      <td>0.000000</td>\n",
       "    </tr>\n",
       "    <tr>\n",
       "      <th>2.00</th>\n",
       "      <td>7202.909091</td>\n",
       "      <td>270.363636</td>\n",
       "      <td>1.740000e+07</td>\n",
       "      <td>4.581864e+05</td>\n",
       "      <td>0.000000</td>\n",
       "    </tr>\n",
       "    <tr>\n",
       "      <th>2.10</th>\n",
       "      <td>8088.428571</td>\n",
       "      <td>427.142857</td>\n",
       "      <td>2.277143e+07</td>\n",
       "      <td>2.528571e+04</td>\n",
       "      <td>0.000000</td>\n",
       "    </tr>\n",
       "    <tr>\n",
       "      <th>2.20</th>\n",
       "      <td>7041.416667</td>\n",
       "      <td>155.333333</td>\n",
       "      <td>1.480833e+07</td>\n",
       "      <td>1.729667e+05</td>\n",
       "      <td>0.000000</td>\n",
       "    </tr>\n",
       "    <tr>\n",
       "      <th>2.30</th>\n",
       "      <td>7131.062500</td>\n",
       "      <td>123.875000</td>\n",
       "      <td>1.363750e+07</td>\n",
       "      <td>1.513125e+04</td>\n",
       "      <td>0.155000</td>\n",
       "    </tr>\n",
       "    <tr>\n",
       "      <th>2.40</th>\n",
       "      <td>7038.875000</td>\n",
       "      <td>908.562500</td>\n",
       "      <td>1.441931e+07</td>\n",
       "      <td>7.869375e+04</td>\n",
       "      <td>0.373750</td>\n",
       "    </tr>\n",
       "    <tr>\n",
       "      <th>2.50</th>\n",
       "      <td>7946.666667</td>\n",
       "      <td>585.000000</td>\n",
       "      <td>1.501350e+07</td>\n",
       "      <td>1.125917e+05</td>\n",
       "      <td>0.000000</td>\n",
       "    </tr>\n",
       "    <tr>\n",
       "      <th>2.60</th>\n",
       "      <td>6601.500000</td>\n",
       "      <td>137.850000</td>\n",
       "      <td>1.083180e+07</td>\n",
       "      <td>1.653000e+04</td>\n",
       "      <td>0.499500</td>\n",
       "    </tr>\n",
       "    <tr>\n",
       "      <th>2.70</th>\n",
       "      <td>7192.312500</td>\n",
       "      <td>837.937500</td>\n",
       "      <td>1.581062e+07</td>\n",
       "      <td>1.084125e+05</td>\n",
       "      <td>0.498750</td>\n",
       "    </tr>\n",
       "    <tr>\n",
       "      <th>2.80</th>\n",
       "      <td>7330.724138</td>\n",
       "      <td>506.551724</td>\n",
       "      <td>1.821183e+07</td>\n",
       "      <td>8.091379e+04</td>\n",
       "      <td>0.172069</td>\n",
       "    </tr>\n",
       "    <tr>\n",
       "      <th>2.90</th>\n",
       "      <td>7417.937500</td>\n",
       "      <td>754.656250</td>\n",
       "      <td>1.050266e+07</td>\n",
       "      <td>6.017188e+04</td>\n",
       "      <td>12.748750</td>\n",
       "    </tr>\n",
       "    <tr>\n",
       "      <th>3.00</th>\n",
       "      <td>6685.170213</td>\n",
       "      <td>293.361702</td>\n",
       "      <td>1.558498e+07</td>\n",
       "      <td>1.485706e+05</td>\n",
       "      <td>0.371277</td>\n",
       "    </tr>\n",
       "    <tr>\n",
       "      <th>3.10</th>\n",
       "      <td>6224.736842</td>\n",
       "      <td>5508.710526</td>\n",
       "      <td>1.488758e+07</td>\n",
       "      <td>1.988539e+06</td>\n",
       "      <td>0.262632</td>\n",
       "    </tr>\n",
       "    <tr>\n",
       "      <th>3.20</th>\n",
       "      <td>7146.342857</td>\n",
       "      <td>2098.914286</td>\n",
       "      <td>1.457714e+07</td>\n",
       "      <td>3.158657e+05</td>\n",
       "      <td>0.114000</td>\n",
       "    </tr>\n",
       "    <tr>\n",
       "      <th>3.30</th>\n",
       "      <td>6755.321429</td>\n",
       "      <td>7912.464286</td>\n",
       "      <td>1.082852e+07</td>\n",
       "      <td>5.563339e+05</td>\n",
       "      <td>0.311786</td>\n",
       "    </tr>\n",
       "    <tr>\n",
       "      <th>3.40</th>\n",
       "      <td>6887.225352</td>\n",
       "      <td>3358.732394</td>\n",
       "      <td>1.476163e+07</td>\n",
       "      <td>2.655831e+05</td>\n",
       "      <td>0.815775</td>\n",
       "    </tr>\n",
       "    <tr>\n",
       "      <th>3.50</th>\n",
       "      <td>6673.400000</td>\n",
       "      <td>9403.188889</td>\n",
       "      <td>1.357366e+07</td>\n",
       "      <td>9.640633e+05</td>\n",
       "      <td>5.127111</td>\n",
       "    </tr>\n",
       "    <tr>\n",
       "      <th>3.60</th>\n",
       "      <td>6393.516854</td>\n",
       "      <td>4891.505618</td>\n",
       "      <td>1.472820e+07</td>\n",
       "      <td>4.467601e+05</td>\n",
       "      <td>9.223933</td>\n",
       "    </tr>\n",
       "    <tr>\n",
       "      <th>3.70</th>\n",
       "      <td>6109.588235</td>\n",
       "      <td>38483.218487</td>\n",
       "      <td>1.627185e+07</td>\n",
       "      <td>2.900024e+06</td>\n",
       "      <td>0.196723</td>\n",
       "    </tr>\n",
       "    <tr>\n",
       "      <th>3.80</th>\n",
       "      <td>6212.295775</td>\n",
       "      <td>10432.732394</td>\n",
       "      <td>1.464026e+07</td>\n",
       "      <td>1.567813e+06</td>\n",
       "      <td>10.805634</td>\n",
       "    </tr>\n",
       "    <tr>\n",
       "      <th>3.90</th>\n",
       "      <td>6158.000000</td>\n",
       "      <td>28629.383420</td>\n",
       "      <td>1.683961e+07</td>\n",
       "      <td>1.692612e+07</td>\n",
       "      <td>0.260000</td>\n",
       "    </tr>\n",
       "    <tr>\n",
       "      <th>4.00</th>\n",
       "      <td>5688.868327</td>\n",
       "      <td>31771.743772</td>\n",
       "      <td>1.607840e+07</td>\n",
       "      <td>1.835409e+06</td>\n",
       "      <td>3.102776</td>\n",
       "    </tr>\n",
       "    <tr>\n",
       "      <th>4.10</th>\n",
       "      <td>5560.409091</td>\n",
       "      <td>46924.805195</td>\n",
       "      <td>1.712413e+07</td>\n",
       "      <td>3.085690e+06</td>\n",
       "      <td>2.912208</td>\n",
       "    </tr>\n",
       "    <tr>\n",
       "      <th>4.19</th>\n",
       "      <td>7579.001990</td>\n",
       "      <td>7.756219</td>\n",
       "      <td>1.328986e+07</td>\n",
       "      <td>1.787943e+03</td>\n",
       "      <td>1.799055</td>\n",
       "    </tr>\n",
       "    <tr>\n",
       "      <th>4.20</th>\n",
       "      <td>5487.955729</td>\n",
       "      <td>117731.997396</td>\n",
       "      <td>1.756802e+07</td>\n",
       "      <td>6.104702e+06</td>\n",
       "      <td>0.425521</td>\n",
       "    </tr>\n",
       "    <tr>\n",
       "      <th>4.30</th>\n",
       "      <td>5460.128603</td>\n",
       "      <td>306442.682927</td>\n",
       "      <td>2.087729e+07</td>\n",
       "      <td>1.615164e+07</td>\n",
       "      <td>1.940710</td>\n",
       "    </tr>\n",
       "    <tr>\n",
       "      <th>4.40</th>\n",
       "      <td>5332.595794</td>\n",
       "      <td>291145.366822</td>\n",
       "      <td>2.174747e+07</td>\n",
       "      <td>1.152097e+07</td>\n",
       "      <td>1.249673</td>\n",
       "    </tr>\n",
       "    <tr>\n",
       "      <th>4.50</th>\n",
       "      <td>5384.021226</td>\n",
       "      <td>686142.877358</td>\n",
       "      <td>2.075617e+07</td>\n",
       "      <td>1.070071e+07</td>\n",
       "      <td>0.362005</td>\n",
       "    </tr>\n",
       "    <tr>\n",
       "      <th>4.60</th>\n",
       "      <td>5130.007979</td>\n",
       "      <td>447250.835106</td>\n",
       "      <td>2.132820e+07</td>\n",
       "      <td>1.008486e+07</td>\n",
       "      <td>0.575213</td>\n",
       "    </tr>\n",
       "    <tr>\n",
       "      <th>4.70</th>\n",
       "      <td>5633.000000</td>\n",
       "      <td>85949.524017</td>\n",
       "      <td>1.606945e+07</td>\n",
       "      <td>2.076516e+06</td>\n",
       "      <td>0.451048</td>\n",
       "    </tr>\n",
       "    <tr>\n",
       "      <th>4.80</th>\n",
       "      <td>5867.464000</td>\n",
       "      <td>30036.072000</td>\n",
       "      <td>1.562429e+07</td>\n",
       "      <td>6.779998e+05</td>\n",
       "      <td>0.702320</td>\n",
       "    </tr>\n",
       "    <tr>\n",
       "      <th>4.90</th>\n",
       "      <td>7451.932203</td>\n",
       "      <td>14691.135593</td>\n",
       "      <td>1.521525e+07</td>\n",
       "      <td>4.956831e+05</td>\n",
       "      <td>0.168814</td>\n",
       "    </tr>\n",
       "    <tr>\n",
       "      <th>5.00</th>\n",
       "      <td>7363.774038</td>\n",
       "      <td>8.735577</td>\n",
       "      <td>1.386290e+07</td>\n",
       "      <td>3.283942e+02</td>\n",
       "      <td>0.441490</td>\n",
       "    </tr>\n",
       "  </tbody>\n",
       "</table>\n",
       "</div>"
      ],
      "text/plain": [
       "               index        Reviews          Size      Installs      Price\n",
       "Rating                                                                    \n",
       "1.00     7745.857143       1.857143  1.533571e+07  2.971429e+02   0.320000\n",
       "1.20    10082.000000      44.000000  2.700000e+07  1.000000e+03   0.000000\n",
       "1.40     6842.500000      32.500000  8.550000e+06  3.000000e+03   0.000000\n",
       "1.50     8314.000000      20.333333  1.800000e+07  3.683333e+02   0.000000\n",
       "1.60     6808.333333     227.666667  1.553333e+07  5.033333e+04   0.000000\n",
       "1.70     6862.714286     335.142857  9.614286e+06  1.152857e+04   0.712857\n",
       "1.80     6322.833333     562.500000  7.214500e+06  8.408333e+04   0.248333\n",
       "1.90     6178.200000      46.000000  9.700000e+06  3.400000e+03   0.000000\n",
       "2.00     7202.909091     270.363636  1.740000e+07  4.581864e+05   0.000000\n",
       "2.10     8088.428571     427.142857  2.277143e+07  2.528571e+04   0.000000\n",
       "2.20     7041.416667     155.333333  1.480833e+07  1.729667e+05   0.000000\n",
       "2.30     7131.062500     123.875000  1.363750e+07  1.513125e+04   0.155000\n",
       "2.40     7038.875000     908.562500  1.441931e+07  7.869375e+04   0.373750\n",
       "2.50     7946.666667     585.000000  1.501350e+07  1.125917e+05   0.000000\n",
       "2.60     6601.500000     137.850000  1.083180e+07  1.653000e+04   0.499500\n",
       "2.70     7192.312500     837.937500  1.581062e+07  1.084125e+05   0.498750\n",
       "2.80     7330.724138     506.551724  1.821183e+07  8.091379e+04   0.172069\n",
       "2.90     7417.937500     754.656250  1.050266e+07  6.017188e+04  12.748750\n",
       "3.00     6685.170213     293.361702  1.558498e+07  1.485706e+05   0.371277\n",
       "3.10     6224.736842    5508.710526  1.488758e+07  1.988539e+06   0.262632\n",
       "3.20     7146.342857    2098.914286  1.457714e+07  3.158657e+05   0.114000\n",
       "3.30     6755.321429    7912.464286  1.082852e+07  5.563339e+05   0.311786\n",
       "3.40     6887.225352    3358.732394  1.476163e+07  2.655831e+05   0.815775\n",
       "3.50     6673.400000    9403.188889  1.357366e+07  9.640633e+05   5.127111\n",
       "3.60     6393.516854    4891.505618  1.472820e+07  4.467601e+05   9.223933\n",
       "3.70     6109.588235   38483.218487  1.627185e+07  2.900024e+06   0.196723\n",
       "3.80     6212.295775   10432.732394  1.464026e+07  1.567813e+06  10.805634\n",
       "3.90     6158.000000   28629.383420  1.683961e+07  1.692612e+07   0.260000\n",
       "4.00     5688.868327   31771.743772  1.607840e+07  1.835409e+06   3.102776\n",
       "4.10     5560.409091   46924.805195  1.712413e+07  3.085690e+06   2.912208\n",
       "4.19     7579.001990       7.756219  1.328986e+07  1.787943e+03   1.799055\n",
       "4.20     5487.955729  117731.997396  1.756802e+07  6.104702e+06   0.425521\n",
       "4.30     5460.128603  306442.682927  2.087729e+07  1.615164e+07   1.940710\n",
       "4.40     5332.595794  291145.366822  2.174747e+07  1.152097e+07   1.249673\n",
       "4.50     5384.021226  686142.877358  2.075617e+07  1.070071e+07   0.362005\n",
       "4.60     5130.007979  447250.835106  2.132820e+07  1.008486e+07   0.575213\n",
       "4.70     5633.000000   85949.524017  1.606945e+07  2.076516e+06   0.451048\n",
       "4.80     5867.464000   30036.072000  1.562429e+07  6.779998e+05   0.702320\n",
       "4.90     7451.932203   14691.135593  1.521525e+07  4.956831e+05   0.168814\n",
       "5.00     7363.774038       8.735577  1.386290e+07  3.283942e+02   0.441490"
      ]
     },
     "execution_count": 66,
     "metadata": {},
     "output_type": "execute_result"
    }
   ],
   "source": [
    "mean_rating_topgenres=topgenres_.groupby(by=['Rating']).mean()\n",
    "mean_rating_topgenres"
   ]
  },
  {
   "cell_type": "code",
   "execution_count": 67,
   "id": "33507d78",
   "metadata": {},
   "outputs": [
    {
     "data": {
      "text/html": [
       "<div>\n",
       "<style scoped>\n",
       "    .dataframe tbody tr th:only-of-type {\n",
       "        vertical-align: middle;\n",
       "    }\n",
       "\n",
       "    .dataframe tbody tr th {\n",
       "        vertical-align: top;\n",
       "    }\n",
       "\n",
       "    .dataframe thead th {\n",
       "        text-align: right;\n",
       "    }\n",
       "</style>\n",
       "<table border=\"1\" class=\"dataframe\">\n",
       "  <thead>\n",
       "    <tr style=\"text-align: right;\">\n",
       "      <th></th>\n",
       "      <th>Rating</th>\n",
       "      <th>Reviews</th>\n",
       "    </tr>\n",
       "    <tr>\n",
       "      <th>Genres</th>\n",
       "      <th></th>\n",
       "      <th></th>\n",
       "    </tr>\n",
       "  </thead>\n",
       "  <tbody>\n",
       "    <tr>\n",
       "      <th>Action</th>\n",
       "      <td>4.260217</td>\n",
       "      <td>741170.922601</td>\n",
       "    </tr>\n",
       "    <tr>\n",
       "      <th>Business</th>\n",
       "      <td>4.136570</td>\n",
       "      <td>14321.651715</td>\n",
       "    </tr>\n",
       "    <tr>\n",
       "      <th>Communication</th>\n",
       "      <td>4.116769</td>\n",
       "      <td>342604.603846</td>\n",
       "    </tr>\n",
       "    <tr>\n",
       "      <th>Education</th>\n",
       "      <td>4.281162</td>\n",
       "      <td>13383.257261</td>\n",
       "    </tr>\n",
       "    <tr>\n",
       "      <th>Entertainment</th>\n",
       "      <td>4.104690</td>\n",
       "      <td>57258.684109</td>\n",
       "    </tr>\n",
       "    <tr>\n",
       "      <th>Finance</th>\n",
       "      <td>4.120033</td>\n",
       "      <td>34099.210526</td>\n",
       "    </tr>\n",
       "    <tr>\n",
       "      <th>Health &amp; Fitness</th>\n",
       "      <td>4.203708</td>\n",
       "      <td>35702.966667</td>\n",
       "    </tr>\n",
       "    <tr>\n",
       "      <th>Lifestyle</th>\n",
       "      <td>4.112018</td>\n",
       "      <td>25271.762611</td>\n",
       "    </tr>\n",
       "    <tr>\n",
       "      <th>Medical</th>\n",
       "      <td>4.181500</td>\n",
       "      <td>3248.539474</td>\n",
       "    </tr>\n",
       "    <tr>\n",
       "      <th>News &amp; Magazines</th>\n",
       "      <td>4.158038</td>\n",
       "      <td>38898.732057</td>\n",
       "    </tr>\n",
       "    <tr>\n",
       "      <th>Personalization</th>\n",
       "      <td>4.295313</td>\n",
       "      <td>99013.923295</td>\n",
       "    </tr>\n",
       "    <tr>\n",
       "      <th>Photography</th>\n",
       "      <td>4.138765</td>\n",
       "      <td>295150.695473</td>\n",
       "    </tr>\n",
       "    <tr>\n",
       "      <th>Productivity</th>\n",
       "      <td>4.152575</td>\n",
       "      <td>142618.909699</td>\n",
       "    </tr>\n",
       "    <tr>\n",
       "      <th>Sports</th>\n",
       "      <td>4.217994</td>\n",
       "      <td>542199.407767</td>\n",
       "    </tr>\n",
       "    <tr>\n",
       "      <th>Tools</th>\n",
       "      <td>4.036038</td>\n",
       "      <td>142845.101764</td>\n",
       "    </tr>\n",
       "  </tbody>\n",
       "</table>\n",
       "</div>"
      ],
      "text/plain": [
       "                    Rating        Reviews\n",
       "Genres                                   \n",
       "Action            4.260217  741170.922601\n",
       "Business          4.136570   14321.651715\n",
       "Communication     4.116769  342604.603846\n",
       "Education         4.281162   13383.257261\n",
       "Entertainment     4.104690   57258.684109\n",
       "Finance           4.120033   34099.210526\n",
       "Health & Fitness  4.203708   35702.966667\n",
       "Lifestyle         4.112018   25271.762611\n",
       "Medical           4.181500    3248.539474\n",
       "News & Magazines  4.158038   38898.732057\n",
       "Personalization   4.295313   99013.923295\n",
       "Photography       4.138765  295150.695473\n",
       "Productivity      4.152575  142618.909699\n",
       "Sports            4.217994  542199.407767\n",
       "Tools             4.036038  142845.101764"
      ]
     },
     "execution_count": 67,
     "metadata": {},
     "output_type": "execute_result"
    }
   ],
   "source": [
    "mean_rating_topgenres1=topgenres_[[\"Category\", \"Rating\", \"Reviews\",\"Type\",\"Genres\"]].groupby(by=['Genres']).mean()\n",
    "mean_rating_topgenres1"
   ]
  },
  {
   "cell_type": "code",
   "execution_count": 68,
   "id": "be1a37a3",
   "metadata": {},
   "outputs": [
    {
     "data": {
      "text/plain": [
       "<matplotlib.legend.Legend at 0x134d7b130>"
      ]
     },
     "execution_count": 68,
     "metadata": {},
     "output_type": "execute_result"
    },
    {
     "data": {
      "image/png": "[encoded data removed]",
      "text/plain": [
       "<Figure size 432x288 with 1 Axes>"
      ]
     },
     "metadata": {
      "needs_background": "light"
     },
     "output_type": "display_data"
    }
   ],
   "source": [
    "#plot 4\n",
    "import seaborn as sns\n",
    "\n",
    "sns.scatterplot(data=mean_rating_topgenres1, x='Rating', y='Reviews', hue='Genres')\n",
    "plt.legend(bbox_to_anchor=(1.02, 1), loc='upper left', borderaxespad=0)"
   ]
  },
  {
   "cell_type": "code",
   "execution_count": 69,
   "id": "f972ed2b",
   "metadata": {},
   "outputs": [],
   "source": [
    "# plt.scatter(mean_rating_topgenres1['Rating'], mean_rating_topgenres1[\"Reviews\"], alpha=0.5)\n",
    "# plt.xlabel(\"Average Rating\")\n",
    "# plt.ylabel(\"Average Reviews\")\n",
    "# plt.show()\n"
   ]
  },
  {
   "cell_type": "code",
   "execution_count": 70,
   "id": "f508c259",
   "metadata": {},
   "outputs": [
    {
     "data": {
      "text/plain": [
       "<AxesSubplot:xlabel='Rating'>"
      ]
     },
     "execution_count": 70,
     "metadata": {},
     "output_type": "execute_result"
    },
    {
     "data": {
      "image/png": "[encoded data removed]",
      "text/plain": [
       "<Figure size 432x288 with 1 Axes>"
      ]
     },
     "metadata": {
      "needs_background": "light"
     },
     "output_type": "display_data"
    }
   ],
   "source": [
    "plot5=mean_rating_topgenres['Reviews'].plot(kind='bar', )\n",
    "plot5"
   ]
  },
  {
   "cell_type": "code",
   "execution_count": 71,
   "id": "c5d66c38",
   "metadata": {},
   "outputs": [
    {
     "data": {
      "text/plain": [
       "<AxesSubplot:xlabel='Genres'>"
      ]
     },
     "execution_count": 71,
     "metadata": {},
     "output_type": "execute_result"
    },
    {
     "data": {
      "image/png": "[encoded data removed]",
      "text/plain": [
       "<Figure size 432x288 with 1 Axes>"
      ]
     },
     "metadata": {
      "needs_background": "light"
     },
     "output_type": "display_data"
    }
   ],
   "source": [
    "plot1=mean_rating_topgenres1['Rating'].plot(kind='bar', )\n",
    "plot1"
   ]
  },
  {
   "cell_type": "code",
   "execution_count": 72,
   "id": "8ac8a940",
   "metadata": {},
   "outputs": [
    {
     "data": {
      "text/plain": [
       "<AxesSubplot:xlabel='Rating'>"
      ]
     },
     "execution_count": 72,
     "metadata": {},
     "output_type": "execute_result"
    },
    {
     "data": {
      "image/png": "[encoded data removed]",
      "text/plain": [
       "<Figure size 432x288 with 1 Axes>"
      ]
     },
     "metadata": {
      "needs_background": "light"
     },
     "output_type": "display_data"
    }
   ],
   "source": [
    "plot6=mean_rating_topgenres['Reviews'].plot(kind='bar')\n",
    "plot6"
   ]
  },
  {
   "cell_type": "code",
   "execution_count": 73,
   "id": "a5b2f6ba",
   "metadata": {},
   "outputs": [],
   "source": [
    "# mean_rating_topgenres['Reviews'].plot(kind='bar')"
   ]
  },
  {
   "cell_type": "code",
   "execution_count": 98,
   "id": "7519b5fb",
   "metadata": {},
   "outputs": [
    {
     "data": {
      "image/png": "[encoded data removed]",
      "text/plain": [
       "<Figure size 432x288 with 1 Axes>"
      ]
     },
     "metadata": {
      "needs_background": "light"
     },
     "output_type": "display_data"
    }
   ],
   "source": [
    "n, bins, patches = plt.hist(mean_rating_topgenres1['Rating'], 10, density=True, facecolor='g', alpha=0.75)\n",
    "\n",
    "plt.xlabel('Rating Score')\n",
    "plt.title('Histogram of mean Rating from top genres (Rating Distribution)')\n",
    "plt.grid(True)\n",
    "plt.show()"
   ]
  },
  {
   "cell_type": "markdown",
   "id": "59f6f4c5",
   "metadata": {},
   "source": [
    "# Analysis"
   ]
  },
  {
   "cell_type": "code",
   "execution_count": 104,
   "id": "014d1144",
   "metadata": {},
   "outputs": [
    {
     "data": {
      "image/png": "[encoded data removed]",
      "text/plain": [
       "<Figure size 432x288 with 1 Axes>"
      ]
     },
     "metadata": {
      "needs_background": "light"
     },
     "output_type": "display_data"
    }
   ],
   "source": [
    "plot3=top5content.plot(kind='bar', title=\"Popularity 'content rating' group\")"
   ]
  },
  {
   "cell_type": "code",
   "execution_count": 91,
   "id": "654a4ee2",
   "metadata": {},
   "outputs": [
    {
     "data": {
      "image/png": "[encoded data removed]",
      "text/plain": [
       "<Figure size 432x288 with 1 Axes>"
      ]
     },
     "metadata": {
      "needs_background": "light"
     },
     "output_type": "display_data"
    }
   ],
   "source": [
    "#15 most popular genres in the App store\n",
    "plot2=top15genres.plot(kind='bar', title='Top 15 genres in the app store')"
   ]
  },
  {
   "cell_type": "code",
   "execution_count": null,
   "id": "52a70869",
   "metadata": {},
   "outputs": [],
   "source": []
  },
  {
   "cell_type": "code",
   "execution_count": 92,
   "id": "c29406e6",
   "metadata": {},
   "outputs": [
    {
     "data": {
      "image/png": "[encoded data removed]",
      "text/plain": [
       "<Figure size 432x288 with 1 Axes>"
      ]
     },
     "metadata": {
      "needs_background": "light"
     },
     "output_type": "display_data"
    }
   ],
   "source": [
    "plot5=mean_rating_topgenres1['Reviews'].plot(kind='bar', title='Amount of reviews per genre' )\n",
    "plot5;"
   ]
  },
  {
   "cell_type": "code",
   "execution_count": 101,
   "id": "5957e5ef",
   "metadata": {},
   "outputs": [
    {
     "data": {
      "text/html": [
       "<div>\n",
       "<style scoped>\n",
       "    .dataframe tbody tr th:only-of-type {\n",
       "        vertical-align: middle;\n",
       "    }\n",
       "\n",
       "    .dataframe tbody tr th {\n",
       "        vertical-align: top;\n",
       "    }\n",
       "\n",
       "    .dataframe thead th {\n",
       "        text-align: right;\n",
       "    }\n",
       "</style>\n",
       "<table border=\"1\" class=\"dataframe\">\n",
       "  <thead>\n",
       "    <tr style=\"text-align: right;\">\n",
       "      <th></th>\n",
       "      <th>Rating</th>\n",
       "      <th>Reviews</th>\n",
       "    </tr>\n",
       "    <tr>\n",
       "      <th>Genres</th>\n",
       "      <th></th>\n",
       "      <th></th>\n",
       "    </tr>\n",
       "  </thead>\n",
       "  <tbody>\n",
       "    <tr>\n",
       "      <th>Action</th>\n",
       "      <td>4.260217</td>\n",
       "      <td>741170.922601</td>\n",
       "    </tr>\n",
       "    <tr>\n",
       "      <th>Business</th>\n",
       "      <td>4.136570</td>\n",
       "      <td>14321.651715</td>\n",
       "    </tr>\n",
       "    <tr>\n",
       "      <th>Communication</th>\n",
       "      <td>4.116769</td>\n",
       "      <td>342604.603846</td>\n",
       "    </tr>\n",
       "    <tr>\n",
       "      <th>Education</th>\n",
       "      <td>4.281162</td>\n",
       "      <td>13383.257261</td>\n",
       "    </tr>\n",
       "    <tr>\n",
       "      <th>Entertainment</th>\n",
       "      <td>4.104690</td>\n",
       "      <td>57258.684109</td>\n",
       "    </tr>\n",
       "    <tr>\n",
       "      <th>Finance</th>\n",
       "      <td>4.120033</td>\n",
       "      <td>34099.210526</td>\n",
       "    </tr>\n",
       "    <tr>\n",
       "      <th>Health &amp; Fitness</th>\n",
       "      <td>4.203708</td>\n",
       "      <td>35702.966667</td>\n",
       "    </tr>\n",
       "    <tr>\n",
       "      <th>Lifestyle</th>\n",
       "      <td>4.112018</td>\n",
       "      <td>25271.762611</td>\n",
       "    </tr>\n",
       "    <tr>\n",
       "      <th>Medical</th>\n",
       "      <td>4.181500</td>\n",
       "      <td>3248.539474</td>\n",
       "    </tr>\n",
       "    <tr>\n",
       "      <th>News &amp; Magazines</th>\n",
       "      <td>4.158038</td>\n",
       "      <td>38898.732057</td>\n",
       "    </tr>\n",
       "    <tr>\n",
       "      <th>Personalization</th>\n",
       "      <td>4.295313</td>\n",
       "      <td>99013.923295</td>\n",
       "    </tr>\n",
       "    <tr>\n",
       "      <th>Photography</th>\n",
       "      <td>4.138765</td>\n",
       "      <td>295150.695473</td>\n",
       "    </tr>\n",
       "    <tr>\n",
       "      <th>Productivity</th>\n",
       "      <td>4.152575</td>\n",
       "      <td>142618.909699</td>\n",
       "    </tr>\n",
       "    <tr>\n",
       "      <th>Sports</th>\n",
       "      <td>4.217994</td>\n",
       "      <td>542199.407767</td>\n",
       "    </tr>\n",
       "    <tr>\n",
       "      <th>Tools</th>\n",
       "      <td>4.036038</td>\n",
       "      <td>142845.101764</td>\n",
       "    </tr>\n",
       "  </tbody>\n",
       "</table>\n",
       "</div>"
      ],
      "text/plain": [
       "                    Rating        Reviews\n",
       "Genres                                   \n",
       "Action            4.260217  741170.922601\n",
       "Business          4.136570   14321.651715\n",
       "Communication     4.116769  342604.603846\n",
       "Education         4.281162   13383.257261\n",
       "Entertainment     4.104690   57258.684109\n",
       "Finance           4.120033   34099.210526\n",
       "Health & Fitness  4.203708   35702.966667\n",
       "Lifestyle         4.112018   25271.762611\n",
       "Medical           4.181500    3248.539474\n",
       "News & Magazines  4.158038   38898.732057\n",
       "Personalization   4.295313   99013.923295\n",
       "Photography       4.138765  295150.695473\n",
       "Productivity      4.152575  142618.909699\n",
       "Sports            4.217994  542199.407767\n",
       "Tools             4.036038  142845.101764"
      ]
     },
     "execution_count": 101,
     "metadata": {},
     "output_type": "execute_result"
    }
   ],
   "source": [
    "mean_rating_topgenres1"
   ]
  },
  {
   "cell_type": "code",
   "execution_count": 102,
   "id": "e1433925",
   "metadata": {},
   "outputs": [
    {
     "data": {
      "image/png": "[encoded data removed]",
      "text/plain": [
       "<Figure size 432x288 with 1 Axes>"
      ]
     },
     "metadata": {
      "needs_background": "light"
     },
     "output_type": "display_data"
    }
   ],
   "source": [
    "n, bins, patches = plt.hist(mean_rating_topgenres1['Rating'], 10, density=True, facecolor='g', alpha=0.75)\n",
    "\n",
    "plt.xlabel('Rating Score')\n",
    "plt.title('Histogram of mean Rating from top genres (Rating Distribution)')\n",
    "plt.grid(True)\n",
    "plt.show()"
   ]
  },
  {
   "cell_type": "code",
   "execution_count": 96,
   "id": "8e0cbb00",
   "metadata": {},
   "outputs": [
    {
     "data": {
      "image/png": "[encoded data removed]",
      "text/plain": [
       "<Figure size 432x288 with 1 Axes>"
      ]
     },
     "metadata": {
      "needs_background": "light"
     },
     "output_type": "display_data"
    }
   ],
   "source": [
    "#plot 4\n",
    "import seaborn as sns\n",
    "\n",
    "sns.scatterplot(data=mean_rating_topgenres1, x='Rating', y='Reviews', hue='Genres').set(title='Rating per genre against reviews')\n",
    "plt.legend(bbox_to_anchor=(1.02, 1), loc='upper left', borderaxespad=0);"
   ]
  },
  {
   "cell_type": "code",
   "execution_count": null,
   "id": "40c72077",
   "metadata": {},
   "outputs": [],
   "source": []
  },
  {
   "cell_type": "code",
   "execution_count": null,
   "id": "99c3bd99",
   "metadata": {},
   "outputs": [],
   "source": []
  }
 ],
 "metadata": {
  "kernelspec": {
   "display_name": "Python 3 (ipykernel)",
   "language": "python",
   "name": "python3"
  },
  "language_info": {
   "codemirror_mode": {
    "name": "ipython",
    "version": 3
   },
   "file_extension": ".py",
   "mimetype": "text/x-python",
   "name": "python",
   "nbconvert_exporter": "python",
   "pygments_lexer": "ipython3",
   "version": "3.8.13"
  },
  "toc": {
   "base_numbering": 1,
   "nav_menu": {},
   "number_sections": true,
   "sideBar": true,
   "skip_h1_title": false,
   "title_cell": "Table of Contents",
   "title_sidebar": "Contents",
   "toc_cell": false,
   "toc_position": {},
   "toc_section_display": true,
   "toc_window_display": false
  }
 },
 "nbformat": 4,
 "nbformat_minor": 5
}
